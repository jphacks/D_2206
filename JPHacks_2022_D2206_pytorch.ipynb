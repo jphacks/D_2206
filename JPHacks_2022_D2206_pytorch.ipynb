{
  "nbformat": 4,
  "nbformat_minor": 0,
  "metadata": {
    "colab": {
      "provenance": [],
      "collapsed_sections": []
    },
    "kernelspec": {
      "name": "python3",
      "display_name": "Python 3"
    },
    "language_info": {
      "name": "python"
    },
    "accelerator": "GPU",
    "widgets": {
      "application/vnd.jupyter.widget-state+json": {
        "d371dfe896bd4392a617a44910b15762": {
          "model_module": "@jupyter-widgets/controls",
          "model_name": "HBoxModel",
          "model_module_version": "1.5.0",
          "state": {
            "_dom_classes": [],
            "_model_module": "@jupyter-widgets/controls",
            "_model_module_version": "1.5.0",
            "_model_name": "HBoxModel",
            "_view_count": null,
            "_view_module": "@jupyter-widgets/controls",
            "_view_module_version": "1.5.0",
            "_view_name": "HBoxView",
            "box_style": "",
            "children": [
              "IPY_MODEL_d5f688cb20c44a8b943337e8fe362905",
              "IPY_MODEL_15f70d27ce3b45b199ab8b42d182bf7e",
              "IPY_MODEL_6c17086d13df4d198af1fd96fae7d3ea"
            ],
            "layout": "IPY_MODEL_d370a5d11c5a483297b7752500f08e3b"
          }
        },
        "d5f688cb20c44a8b943337e8fe362905": {
          "model_module": "@jupyter-widgets/controls",
          "model_name": "HTMLModel",
          "model_module_version": "1.5.0",
          "state": {
            "_dom_classes": [],
            "_model_module": "@jupyter-widgets/controls",
            "_model_module_version": "1.5.0",
            "_model_name": "HTMLModel",
            "_view_count": null,
            "_view_module": "@jupyter-widgets/controls",
            "_view_module_version": "1.5.0",
            "_view_name": "HTMLView",
            "description": "",
            "description_tooltip": null,
            "layout": "IPY_MODEL_4f15e56af9d24a7face3553245a721a8",
            "placeholder": "​",
            "style": "IPY_MODEL_9cc45206ae4b4a07be8c351974439f9d",
            "value": "Downloading: 100%"
          }
        },
        "15f70d27ce3b45b199ab8b42d182bf7e": {
          "model_module": "@jupyter-widgets/controls",
          "model_name": "FloatProgressModel",
          "model_module_version": "1.5.0",
          "state": {
            "_dom_classes": [],
            "_model_module": "@jupyter-widgets/controls",
            "_model_module_version": "1.5.0",
            "_model_name": "FloatProgressModel",
            "_view_count": null,
            "_view_module": "@jupyter-widgets/controls",
            "_view_module_version": "1.5.0",
            "_view_name": "ProgressView",
            "bar_style": "success",
            "description": "",
            "description_tooltip": null,
            "layout": "IPY_MODEL_0b2e431fedef4f479d2bec5108cd2328",
            "max": 110,
            "min": 0,
            "orientation": "horizontal",
            "style": "IPY_MODEL_bb4282264e604c7ab609b92b071d192d",
            "value": 110
          }
        },
        "6c17086d13df4d198af1fd96fae7d3ea": {
          "model_module": "@jupyter-widgets/controls",
          "model_name": "HTMLModel",
          "model_module_version": "1.5.0",
          "state": {
            "_dom_classes": [],
            "_model_module": "@jupyter-widgets/controls",
            "_model_module_version": "1.5.0",
            "_model_name": "HTMLModel",
            "_view_count": null,
            "_view_module": "@jupyter-widgets/controls",
            "_view_module_version": "1.5.0",
            "_view_name": "HTMLView",
            "description": "",
            "description_tooltip": null,
            "layout": "IPY_MODEL_137ad30f7b624762b15af64ba11502c7",
            "placeholder": "​",
            "style": "IPY_MODEL_6e7904b49ecc49c990b528a59d24fc55",
            "value": " 110/110 [00:00&lt;00:00, 730B/s]"
          }
        },
        "d370a5d11c5a483297b7752500f08e3b": {
          "model_module": "@jupyter-widgets/base",
          "model_name": "LayoutModel",
          "model_module_version": "1.2.0",
          "state": {
            "_model_module": "@jupyter-widgets/base",
            "_model_module_version": "1.2.0",
            "_model_name": "LayoutModel",
            "_view_count": null,
            "_view_module": "@jupyter-widgets/base",
            "_view_module_version": "1.2.0",
            "_view_name": "LayoutView",
            "align_content": null,
            "align_items": null,
            "align_self": null,
            "border": null,
            "bottom": null,
            "display": null,
            "flex": null,
            "flex_flow": null,
            "grid_area": null,
            "grid_auto_columns": null,
            "grid_auto_flow": null,
            "grid_auto_rows": null,
            "grid_column": null,
            "grid_gap": null,
            "grid_row": null,
            "grid_template_areas": null,
            "grid_template_columns": null,
            "grid_template_rows": null,
            "height": null,
            "justify_content": null,
            "justify_items": null,
            "left": null,
            "margin": null,
            "max_height": null,
            "max_width": null,
            "min_height": null,
            "min_width": null,
            "object_fit": null,
            "object_position": null,
            "order": null,
            "overflow": null,
            "overflow_x": null,
            "overflow_y": null,
            "padding": null,
            "right": null,
            "top": null,
            "visibility": null,
            "width": null
          }
        },
        "4f15e56af9d24a7face3553245a721a8": {
          "model_module": "@jupyter-widgets/base",
          "model_name": "LayoutModel",
          "model_module_version": "1.2.0",
          "state": {
            "_model_module": "@jupyter-widgets/base",
            "_model_module_version": "1.2.0",
            "_model_name": "LayoutModel",
            "_view_count": null,
            "_view_module": "@jupyter-widgets/base",
            "_view_module_version": "1.2.0",
            "_view_name": "LayoutView",
            "align_content": null,
            "align_items": null,
            "align_self": null,
            "border": null,
            "bottom": null,
            "display": null,
            "flex": null,
            "flex_flow": null,
            "grid_area": null,
            "grid_auto_columns": null,
            "grid_auto_flow": null,
            "grid_auto_rows": null,
            "grid_column": null,
            "grid_gap": null,
            "grid_row": null,
            "grid_template_areas": null,
            "grid_template_columns": null,
            "grid_template_rows": null,
            "height": null,
            "justify_content": null,
            "justify_items": null,
            "left": null,
            "margin": null,
            "max_height": null,
            "max_width": null,
            "min_height": null,
            "min_width": null,
            "object_fit": null,
            "object_position": null,
            "order": null,
            "overflow": null,
            "overflow_x": null,
            "overflow_y": null,
            "padding": null,
            "right": null,
            "top": null,
            "visibility": null,
            "width": null
          }
        },
        "9cc45206ae4b4a07be8c351974439f9d": {
          "model_module": "@jupyter-widgets/controls",
          "model_name": "DescriptionStyleModel",
          "model_module_version": "1.5.0",
          "state": {
            "_model_module": "@jupyter-widgets/controls",
            "_model_module_version": "1.5.0",
            "_model_name": "DescriptionStyleModel",
            "_view_count": null,
            "_view_module": "@jupyter-widgets/base",
            "_view_module_version": "1.2.0",
            "_view_name": "StyleView",
            "description_width": ""
          }
        },
        "0b2e431fedef4f479d2bec5108cd2328": {
          "model_module": "@jupyter-widgets/base",
          "model_name": "LayoutModel",
          "model_module_version": "1.2.0",
          "state": {
            "_model_module": "@jupyter-widgets/base",
            "_model_module_version": "1.2.0",
            "_model_name": "LayoutModel",
            "_view_count": null,
            "_view_module": "@jupyter-widgets/base",
            "_view_module_version": "1.2.0",
            "_view_name": "LayoutView",
            "align_content": null,
            "align_items": null,
            "align_self": null,
            "border": null,
            "bottom": null,
            "display": null,
            "flex": null,
            "flex_flow": null,
            "grid_area": null,
            "grid_auto_columns": null,
            "grid_auto_flow": null,
            "grid_auto_rows": null,
            "grid_column": null,
            "grid_gap": null,
            "grid_row": null,
            "grid_template_areas": null,
            "grid_template_columns": null,
            "grid_template_rows": null,
            "height": null,
            "justify_content": null,
            "justify_items": null,
            "left": null,
            "margin": null,
            "max_height": null,
            "max_width": null,
            "min_height": null,
            "min_width": null,
            "object_fit": null,
            "object_position": null,
            "order": null,
            "overflow": null,
            "overflow_x": null,
            "overflow_y": null,
            "padding": null,
            "right": null,
            "top": null,
            "visibility": null,
            "width": null
          }
        },
        "bb4282264e604c7ab609b92b071d192d": {
          "model_module": "@jupyter-widgets/controls",
          "model_name": "ProgressStyleModel",
          "model_module_version": "1.5.0",
          "state": {
            "_model_module": "@jupyter-widgets/controls",
            "_model_module_version": "1.5.0",
            "_model_name": "ProgressStyleModel",
            "_view_count": null,
            "_view_module": "@jupyter-widgets/base",
            "_view_module_version": "1.2.0",
            "_view_name": "StyleView",
            "bar_color": null,
            "description_width": ""
          }
        },
        "137ad30f7b624762b15af64ba11502c7": {
          "model_module": "@jupyter-widgets/base",
          "model_name": "LayoutModel",
          "model_module_version": "1.2.0",
          "state": {
            "_model_module": "@jupyter-widgets/base",
            "_model_module_version": "1.2.0",
            "_model_name": "LayoutModel",
            "_view_count": null,
            "_view_module": "@jupyter-widgets/base",
            "_view_module_version": "1.2.0",
            "_view_name": "LayoutView",
            "align_content": null,
            "align_items": null,
            "align_self": null,
            "border": null,
            "bottom": null,
            "display": null,
            "flex": null,
            "flex_flow": null,
            "grid_area": null,
            "grid_auto_columns": null,
            "grid_auto_flow": null,
            "grid_auto_rows": null,
            "grid_column": null,
            "grid_gap": null,
            "grid_row": null,
            "grid_template_areas": null,
            "grid_template_columns": null,
            "grid_template_rows": null,
            "height": null,
            "justify_content": null,
            "justify_items": null,
            "left": null,
            "margin": null,
            "max_height": null,
            "max_width": null,
            "min_height": null,
            "min_width": null,
            "object_fit": null,
            "object_position": null,
            "order": null,
            "overflow": null,
            "overflow_x": null,
            "overflow_y": null,
            "padding": null,
            "right": null,
            "top": null,
            "visibility": null,
            "width": null
          }
        },
        "6e7904b49ecc49c990b528a59d24fc55": {
          "model_module": "@jupyter-widgets/controls",
          "model_name": "DescriptionStyleModel",
          "model_module_version": "1.5.0",
          "state": {
            "_model_module": "@jupyter-widgets/controls",
            "_model_module_version": "1.5.0",
            "_model_name": "DescriptionStyleModel",
            "_view_count": null,
            "_view_module": "@jupyter-widgets/base",
            "_view_module_version": "1.2.0",
            "_view_name": "StyleView",
            "description_width": ""
          }
        },
        "5c398d90e9eb47e681bca081f82ba8de": {
          "model_module": "@jupyter-widgets/controls",
          "model_name": "HBoxModel",
          "model_module_version": "1.5.0",
          "state": {
            "_dom_classes": [],
            "_model_module": "@jupyter-widgets/controls",
            "_model_module_version": "1.5.0",
            "_model_name": "HBoxModel",
            "_view_count": null,
            "_view_module": "@jupyter-widgets/controls",
            "_view_module_version": "1.5.0",
            "_view_name": "HBoxView",
            "box_style": "",
            "children": [
              "IPY_MODEL_dd4c22990c494fbabbcbcb1cca679f6f",
              "IPY_MODEL_36d20e42d19a4bd2b20b3ba7eda11fb0",
              "IPY_MODEL_49159ceb3a844b1db959b44724e8d4c0"
            ],
            "layout": "IPY_MODEL_41811c21a1c94ae486236ef8a873d7d5"
          }
        },
        "dd4c22990c494fbabbcbcb1cca679f6f": {
          "model_module": "@jupyter-widgets/controls",
          "model_name": "HTMLModel",
          "model_module_version": "1.5.0",
          "state": {
            "_dom_classes": [],
            "_model_module": "@jupyter-widgets/controls",
            "_model_module_version": "1.5.0",
            "_model_name": "HTMLModel",
            "_view_count": null,
            "_view_module": "@jupyter-widgets/controls",
            "_view_module_version": "1.5.0",
            "_view_name": "HTMLView",
            "description": "",
            "description_tooltip": null,
            "layout": "IPY_MODEL_e173ba34b7d5430c885eeb1ce0296658",
            "placeholder": "​",
            "style": "IPY_MODEL_0a80bedc57e444f0b2edc32567aba6de",
            "value": "Downloading: 100%"
          }
        },
        "36d20e42d19a4bd2b20b3ba7eda11fb0": {
          "model_module": "@jupyter-widgets/controls",
          "model_name": "FloatProgressModel",
          "model_module_version": "1.5.0",
          "state": {
            "_dom_classes": [],
            "_model_module": "@jupyter-widgets/controls",
            "_model_module_version": "1.5.0",
            "_model_name": "FloatProgressModel",
            "_view_count": null,
            "_view_module": "@jupyter-widgets/controls",
            "_view_module_version": "1.5.0",
            "_view_name": "ProgressView",
            "bar_style": "success",
            "description": "",
            "description_tooltip": null,
            "layout": "IPY_MODEL_c294418e505042ba9942434ede51a3dc",
            "max": 479,
            "min": 0,
            "orientation": "horizontal",
            "style": "IPY_MODEL_fe895125f1394b678815dfdfbf25c5a4",
            "value": 479
          }
        },
        "49159ceb3a844b1db959b44724e8d4c0": {
          "model_module": "@jupyter-widgets/controls",
          "model_name": "HTMLModel",
          "model_module_version": "1.5.0",
          "state": {
            "_dom_classes": [],
            "_model_module": "@jupyter-widgets/controls",
            "_model_module_version": "1.5.0",
            "_model_name": "HTMLModel",
            "_view_count": null,
            "_view_module": "@jupyter-widgets/controls",
            "_view_module_version": "1.5.0",
            "_view_name": "HTMLView",
            "description": "",
            "description_tooltip": null,
            "layout": "IPY_MODEL_00ac0639718943ccbc278a2687e07880",
            "placeholder": "​",
            "style": "IPY_MODEL_755d0de2b5f74cc8a92824aa956c90a9",
            "value": " 479/479 [00:00&lt;00:00, 9.27kB/s]"
          }
        },
        "41811c21a1c94ae486236ef8a873d7d5": {
          "model_module": "@jupyter-widgets/base",
          "model_name": "LayoutModel",
          "model_module_version": "1.2.0",
          "state": {
            "_model_module": "@jupyter-widgets/base",
            "_model_module_version": "1.2.0",
            "_model_name": "LayoutModel",
            "_view_count": null,
            "_view_module": "@jupyter-widgets/base",
            "_view_module_version": "1.2.0",
            "_view_name": "LayoutView",
            "align_content": null,
            "align_items": null,
            "align_self": null,
            "border": null,
            "bottom": null,
            "display": null,
            "flex": null,
            "flex_flow": null,
            "grid_area": null,
            "grid_auto_columns": null,
            "grid_auto_flow": null,
            "grid_auto_rows": null,
            "grid_column": null,
            "grid_gap": null,
            "grid_row": null,
            "grid_template_areas": null,
            "grid_template_columns": null,
            "grid_template_rows": null,
            "height": null,
            "justify_content": null,
            "justify_items": null,
            "left": null,
            "margin": null,
            "max_height": null,
            "max_width": null,
            "min_height": null,
            "min_width": null,
            "object_fit": null,
            "object_position": null,
            "order": null,
            "overflow": null,
            "overflow_x": null,
            "overflow_y": null,
            "padding": null,
            "right": null,
            "top": null,
            "visibility": null,
            "width": null
          }
        },
        "e173ba34b7d5430c885eeb1ce0296658": {
          "model_module": "@jupyter-widgets/base",
          "model_name": "LayoutModel",
          "model_module_version": "1.2.0",
          "state": {
            "_model_module": "@jupyter-widgets/base",
            "_model_module_version": "1.2.0",
            "_model_name": "LayoutModel",
            "_view_count": null,
            "_view_module": "@jupyter-widgets/base",
            "_view_module_version": "1.2.0",
            "_view_name": "LayoutView",
            "align_content": null,
            "align_items": null,
            "align_self": null,
            "border": null,
            "bottom": null,
            "display": null,
            "flex": null,
            "flex_flow": null,
            "grid_area": null,
            "grid_auto_columns": null,
            "grid_auto_flow": null,
            "grid_auto_rows": null,
            "grid_column": null,
            "grid_gap": null,
            "grid_row": null,
            "grid_template_areas": null,
            "grid_template_columns": null,
            "grid_template_rows": null,
            "height": null,
            "justify_content": null,
            "justify_items": null,
            "left": null,
            "margin": null,
            "max_height": null,
            "max_width": null,
            "min_height": null,
            "min_width": null,
            "object_fit": null,
            "object_position": null,
            "order": null,
            "overflow": null,
            "overflow_x": null,
            "overflow_y": null,
            "padding": null,
            "right": null,
            "top": null,
            "visibility": null,
            "width": null
          }
        },
        "0a80bedc57e444f0b2edc32567aba6de": {
          "model_module": "@jupyter-widgets/controls",
          "model_name": "DescriptionStyleModel",
          "model_module_version": "1.5.0",
          "state": {
            "_model_module": "@jupyter-widgets/controls",
            "_model_module_version": "1.5.0",
            "_model_name": "DescriptionStyleModel",
            "_view_count": null,
            "_view_module": "@jupyter-widgets/base",
            "_view_module_version": "1.2.0",
            "_view_name": "StyleView",
            "description_width": ""
          }
        },
        "c294418e505042ba9942434ede51a3dc": {
          "model_module": "@jupyter-widgets/base",
          "model_name": "LayoutModel",
          "model_module_version": "1.2.0",
          "state": {
            "_model_module": "@jupyter-widgets/base",
            "_model_module_version": "1.2.0",
            "_model_name": "LayoutModel",
            "_view_count": null,
            "_view_module": "@jupyter-widgets/base",
            "_view_module_version": "1.2.0",
            "_view_name": "LayoutView",
            "align_content": null,
            "align_items": null,
            "align_self": null,
            "border": null,
            "bottom": null,
            "display": null,
            "flex": null,
            "flex_flow": null,
            "grid_area": null,
            "grid_auto_columns": null,
            "grid_auto_flow": null,
            "grid_auto_rows": null,
            "grid_column": null,
            "grid_gap": null,
            "grid_row": null,
            "grid_template_areas": null,
            "grid_template_columns": null,
            "grid_template_rows": null,
            "height": null,
            "justify_content": null,
            "justify_items": null,
            "left": null,
            "margin": null,
            "max_height": null,
            "max_width": null,
            "min_height": null,
            "min_width": null,
            "object_fit": null,
            "object_position": null,
            "order": null,
            "overflow": null,
            "overflow_x": null,
            "overflow_y": null,
            "padding": null,
            "right": null,
            "top": null,
            "visibility": null,
            "width": null
          }
        },
        "fe895125f1394b678815dfdfbf25c5a4": {
          "model_module": "@jupyter-widgets/controls",
          "model_name": "ProgressStyleModel",
          "model_module_version": "1.5.0",
          "state": {
            "_model_module": "@jupyter-widgets/controls",
            "_model_module_version": "1.5.0",
            "_model_name": "ProgressStyleModel",
            "_view_count": null,
            "_view_module": "@jupyter-widgets/base",
            "_view_module_version": "1.2.0",
            "_view_name": "StyleView",
            "bar_color": null,
            "description_width": ""
          }
        },
        "00ac0639718943ccbc278a2687e07880": {
          "model_module": "@jupyter-widgets/base",
          "model_name": "LayoutModel",
          "model_module_version": "1.2.0",
          "state": {
            "_model_module": "@jupyter-widgets/base",
            "_model_module_version": "1.2.0",
            "_model_name": "LayoutModel",
            "_view_count": null,
            "_view_module": "@jupyter-widgets/base",
            "_view_module_version": "1.2.0",
            "_view_name": "LayoutView",
            "align_content": null,
            "align_items": null,
            "align_self": null,
            "border": null,
            "bottom": null,
            "display": null,
            "flex": null,
            "flex_flow": null,
            "grid_area": null,
            "grid_auto_columns": null,
            "grid_auto_flow": null,
            "grid_auto_rows": null,
            "grid_column": null,
            "grid_gap": null,
            "grid_row": null,
            "grid_template_areas": null,
            "grid_template_columns": null,
            "grid_template_rows": null,
            "height": null,
            "justify_content": null,
            "justify_items": null,
            "left": null,
            "margin": null,
            "max_height": null,
            "max_width": null,
            "min_height": null,
            "min_width": null,
            "object_fit": null,
            "object_position": null,
            "order": null,
            "overflow": null,
            "overflow_x": null,
            "overflow_y": null,
            "padding": null,
            "right": null,
            "top": null,
            "visibility": null,
            "width": null
          }
        },
        "755d0de2b5f74cc8a92824aa956c90a9": {
          "model_module": "@jupyter-widgets/controls",
          "model_name": "DescriptionStyleModel",
          "model_module_version": "1.5.0",
          "state": {
            "_model_module": "@jupyter-widgets/controls",
            "_model_module_version": "1.5.0",
            "_model_name": "DescriptionStyleModel",
            "_view_count": null,
            "_view_module": "@jupyter-widgets/base",
            "_view_module_version": "1.2.0",
            "_view_name": "StyleView",
            "description_width": ""
          }
        },
        "81c1a4f3090043c6ada27a9bda733c7f": {
          "model_module": "@jupyter-widgets/controls",
          "model_name": "HBoxModel",
          "model_module_version": "1.5.0",
          "state": {
            "_dom_classes": [],
            "_model_module": "@jupyter-widgets/controls",
            "_model_module_version": "1.5.0",
            "_model_name": "HBoxModel",
            "_view_count": null,
            "_view_module": "@jupyter-widgets/controls",
            "_view_module_version": "1.5.0",
            "_view_name": "HBoxView",
            "box_style": "",
            "children": [
              "IPY_MODEL_ae231aca106f4b8ca825fd7c1b5682c9",
              "IPY_MODEL_9b6c00e307024be9a21f510c4575e983",
              "IPY_MODEL_c158fad27481492db4fe4ee61b458721"
            ],
            "layout": "IPY_MODEL_ef621442325a4b6199dc01a5c29600cc"
          }
        },
        "ae231aca106f4b8ca825fd7c1b5682c9": {
          "model_module": "@jupyter-widgets/controls",
          "model_name": "HTMLModel",
          "model_module_version": "1.5.0",
          "state": {
            "_dom_classes": [],
            "_model_module": "@jupyter-widgets/controls",
            "_model_module_version": "1.5.0",
            "_model_name": "HTMLModel",
            "_view_count": null,
            "_view_module": "@jupyter-widgets/controls",
            "_view_module_version": "1.5.0",
            "_view_name": "HTMLView",
            "description": "",
            "description_tooltip": null,
            "layout": "IPY_MODEL_056dd420e3be4523885668b636c77ae4",
            "placeholder": "​",
            "style": "IPY_MODEL_aa3b26bb9bfd4c218bd64cd5664c0e52",
            "value": "Downloading: 100%"
          }
        },
        "9b6c00e307024be9a21f510c4575e983": {
          "model_module": "@jupyter-widgets/controls",
          "model_name": "FloatProgressModel",
          "model_module_version": "1.5.0",
          "state": {
            "_dom_classes": [],
            "_model_module": "@jupyter-widgets/controls",
            "_model_module_version": "1.5.0",
            "_model_name": "FloatProgressModel",
            "_view_count": null,
            "_view_module": "@jupyter-widgets/controls",
            "_view_module_version": "1.5.0",
            "_view_name": "ProgressView",
            "bar_style": "success",
            "description": "",
            "description_tooltip": null,
            "layout": "IPY_MODEL_ebad612a10a94ab18a448b73df9e64ce",
            "max": 257706,
            "min": 0,
            "orientation": "horizontal",
            "style": "IPY_MODEL_7a0111d06f744c789bd47ea1d4e48eae",
            "value": 257706
          }
        },
        "c158fad27481492db4fe4ee61b458721": {
          "model_module": "@jupyter-widgets/controls",
          "model_name": "HTMLModel",
          "model_module_version": "1.5.0",
          "state": {
            "_dom_classes": [],
            "_model_module": "@jupyter-widgets/controls",
            "_model_module_version": "1.5.0",
            "_model_name": "HTMLModel",
            "_view_count": null,
            "_view_module": "@jupyter-widgets/controls",
            "_view_module_version": "1.5.0",
            "_view_name": "HTMLView",
            "description": "",
            "description_tooltip": null,
            "layout": "IPY_MODEL_32bde9205f86407a80a295bf6ff32b22",
            "placeholder": "​",
            "style": "IPY_MODEL_22d83a4e5573457ab8ce406e399a50c3",
            "value": " 258k/258k [00:00&lt;00:00, 5.26MB/s]"
          }
        },
        "ef621442325a4b6199dc01a5c29600cc": {
          "model_module": "@jupyter-widgets/base",
          "model_name": "LayoutModel",
          "model_module_version": "1.2.0",
          "state": {
            "_model_module": "@jupyter-widgets/base",
            "_model_module_version": "1.2.0",
            "_model_name": "LayoutModel",
            "_view_count": null,
            "_view_module": "@jupyter-widgets/base",
            "_view_module_version": "1.2.0",
            "_view_name": "LayoutView",
            "align_content": null,
            "align_items": null,
            "align_self": null,
            "border": null,
            "bottom": null,
            "display": null,
            "flex": null,
            "flex_flow": null,
            "grid_area": null,
            "grid_auto_columns": null,
            "grid_auto_flow": null,
            "grid_auto_rows": null,
            "grid_column": null,
            "grid_gap": null,
            "grid_row": null,
            "grid_template_areas": null,
            "grid_template_columns": null,
            "grid_template_rows": null,
            "height": null,
            "justify_content": null,
            "justify_items": null,
            "left": null,
            "margin": null,
            "max_height": null,
            "max_width": null,
            "min_height": null,
            "min_width": null,
            "object_fit": null,
            "object_position": null,
            "order": null,
            "overflow": null,
            "overflow_x": null,
            "overflow_y": null,
            "padding": null,
            "right": null,
            "top": null,
            "visibility": null,
            "width": null
          }
        },
        "056dd420e3be4523885668b636c77ae4": {
          "model_module": "@jupyter-widgets/base",
          "model_name": "LayoutModel",
          "model_module_version": "1.2.0",
          "state": {
            "_model_module": "@jupyter-widgets/base",
            "_model_module_version": "1.2.0",
            "_model_name": "LayoutModel",
            "_view_count": null,
            "_view_module": "@jupyter-widgets/base",
            "_view_module_version": "1.2.0",
            "_view_name": "LayoutView",
            "align_content": null,
            "align_items": null,
            "align_self": null,
            "border": null,
            "bottom": null,
            "display": null,
            "flex": null,
            "flex_flow": null,
            "grid_area": null,
            "grid_auto_columns": null,
            "grid_auto_flow": null,
            "grid_auto_rows": null,
            "grid_column": null,
            "grid_gap": null,
            "grid_row": null,
            "grid_template_areas": null,
            "grid_template_columns": null,
            "grid_template_rows": null,
            "height": null,
            "justify_content": null,
            "justify_items": null,
            "left": null,
            "margin": null,
            "max_height": null,
            "max_width": null,
            "min_height": null,
            "min_width": null,
            "object_fit": null,
            "object_position": null,
            "order": null,
            "overflow": null,
            "overflow_x": null,
            "overflow_y": null,
            "padding": null,
            "right": null,
            "top": null,
            "visibility": null,
            "width": null
          }
        },
        "aa3b26bb9bfd4c218bd64cd5664c0e52": {
          "model_module": "@jupyter-widgets/controls",
          "model_name": "DescriptionStyleModel",
          "model_module_version": "1.5.0",
          "state": {
            "_model_module": "@jupyter-widgets/controls",
            "_model_module_version": "1.5.0",
            "_model_name": "DescriptionStyleModel",
            "_view_count": null,
            "_view_module": "@jupyter-widgets/base",
            "_view_module_version": "1.2.0",
            "_view_name": "StyleView",
            "description_width": ""
          }
        },
        "ebad612a10a94ab18a448b73df9e64ce": {
          "model_module": "@jupyter-widgets/base",
          "model_name": "LayoutModel",
          "model_module_version": "1.2.0",
          "state": {
            "_model_module": "@jupyter-widgets/base",
            "_model_module_version": "1.2.0",
            "_model_name": "LayoutModel",
            "_view_count": null,
            "_view_module": "@jupyter-widgets/base",
            "_view_module_version": "1.2.0",
            "_view_name": "LayoutView",
            "align_content": null,
            "align_items": null,
            "align_self": null,
            "border": null,
            "bottom": null,
            "display": null,
            "flex": null,
            "flex_flow": null,
            "grid_area": null,
            "grid_auto_columns": null,
            "grid_auto_flow": null,
            "grid_auto_rows": null,
            "grid_column": null,
            "grid_gap": null,
            "grid_row": null,
            "grid_template_areas": null,
            "grid_template_columns": null,
            "grid_template_rows": null,
            "height": null,
            "justify_content": null,
            "justify_items": null,
            "left": null,
            "margin": null,
            "max_height": null,
            "max_width": null,
            "min_height": null,
            "min_width": null,
            "object_fit": null,
            "object_position": null,
            "order": null,
            "overflow": null,
            "overflow_x": null,
            "overflow_y": null,
            "padding": null,
            "right": null,
            "top": null,
            "visibility": null,
            "width": null
          }
        },
        "7a0111d06f744c789bd47ea1d4e48eae": {
          "model_module": "@jupyter-widgets/controls",
          "model_name": "ProgressStyleModel",
          "model_module_version": "1.5.0",
          "state": {
            "_model_module": "@jupyter-widgets/controls",
            "_model_module_version": "1.5.0",
            "_model_name": "ProgressStyleModel",
            "_view_count": null,
            "_view_module": "@jupyter-widgets/base",
            "_view_module_version": "1.2.0",
            "_view_name": "StyleView",
            "bar_color": null,
            "description_width": ""
          }
        },
        "32bde9205f86407a80a295bf6ff32b22": {
          "model_module": "@jupyter-widgets/base",
          "model_name": "LayoutModel",
          "model_module_version": "1.2.0",
          "state": {
            "_model_module": "@jupyter-widgets/base",
            "_model_module_version": "1.2.0",
            "_model_name": "LayoutModel",
            "_view_count": null,
            "_view_module": "@jupyter-widgets/base",
            "_view_module_version": "1.2.0",
            "_view_name": "LayoutView",
            "align_content": null,
            "align_items": null,
            "align_self": null,
            "border": null,
            "bottom": null,
            "display": null,
            "flex": null,
            "flex_flow": null,
            "grid_area": null,
            "grid_auto_columns": null,
            "grid_auto_flow": null,
            "grid_auto_rows": null,
            "grid_column": null,
            "grid_gap": null,
            "grid_row": null,
            "grid_template_areas": null,
            "grid_template_columns": null,
            "grid_template_rows": null,
            "height": null,
            "justify_content": null,
            "justify_items": null,
            "left": null,
            "margin": null,
            "max_height": null,
            "max_width": null,
            "min_height": null,
            "min_width": null,
            "object_fit": null,
            "object_position": null,
            "order": null,
            "overflow": null,
            "overflow_x": null,
            "overflow_y": null,
            "padding": null,
            "right": null,
            "top": null,
            "visibility": null,
            "width": null
          }
        },
        "22d83a4e5573457ab8ce406e399a50c3": {
          "model_module": "@jupyter-widgets/controls",
          "model_name": "DescriptionStyleModel",
          "model_module_version": "1.5.0",
          "state": {
            "_model_module": "@jupyter-widgets/controls",
            "_model_module_version": "1.5.0",
            "_model_name": "DescriptionStyleModel",
            "_view_count": null,
            "_view_module": "@jupyter-widgets/base",
            "_view_module_version": "1.2.0",
            "_view_name": "StyleView",
            "description_width": ""
          }
        },
        "dcb44a010f3a4b3299808b88d61b31f6": {
          "model_module": "@jupyter-widgets/controls",
          "model_name": "HBoxModel",
          "model_module_version": "1.5.0",
          "state": {
            "_dom_classes": [],
            "_model_module": "@jupyter-widgets/controls",
            "_model_module_version": "1.5.0",
            "_model_name": "HBoxModel",
            "_view_count": null,
            "_view_module": "@jupyter-widgets/controls",
            "_view_module_version": "1.5.0",
            "_view_name": "HBoxView",
            "box_style": "",
            "children": [
              "IPY_MODEL_4081c0fd114e4fd880b38044413156eb",
              "IPY_MODEL_0b2af7ec27b946199c1cad44b7c16e98",
              "IPY_MODEL_2c81582a73c84c49827b5f083f25a7a3"
            ],
            "layout": "IPY_MODEL_a562f776ddf142bda793840738463c2b"
          }
        },
        "4081c0fd114e4fd880b38044413156eb": {
          "model_module": "@jupyter-widgets/controls",
          "model_name": "HTMLModel",
          "model_module_version": "1.5.0",
          "state": {
            "_dom_classes": [],
            "_model_module": "@jupyter-widgets/controls",
            "_model_module_version": "1.5.0",
            "_model_name": "HTMLModel",
            "_view_count": null,
            "_view_module": "@jupyter-widgets/controls",
            "_view_module_version": "1.5.0",
            "_view_name": "HTMLView",
            "description": "",
            "description_tooltip": null,
            "layout": "IPY_MODEL_329c16db03154bd8871e5b8509f2a1e9",
            "placeholder": "​",
            "style": "IPY_MODEL_90cc97a9d5614fa39008a67f5f833c9c",
            "value": "Downloading: 100%"
          }
        },
        "0b2af7ec27b946199c1cad44b7c16e98": {
          "model_module": "@jupyter-widgets/controls",
          "model_name": "FloatProgressModel",
          "model_module_version": "1.5.0",
          "state": {
            "_dom_classes": [],
            "_model_module": "@jupyter-widgets/controls",
            "_model_module_version": "1.5.0",
            "_model_name": "FloatProgressModel",
            "_view_count": null,
            "_view_module": "@jupyter-widgets/controls",
            "_view_module_version": "1.5.0",
            "_view_name": "ProgressView",
            "bar_style": "success",
            "description": "",
            "description_tooltip": null,
            "layout": "IPY_MODEL_32a0f49d0a1547c18afc8d91adeb4b4b",
            "max": 445021143,
            "min": 0,
            "orientation": "horizontal",
            "style": "IPY_MODEL_25c488ea2b5849b4b5bed142b8e98bfa",
            "value": 445021143
          }
        },
        "2c81582a73c84c49827b5f083f25a7a3": {
          "model_module": "@jupyter-widgets/controls",
          "model_name": "HTMLModel",
          "model_module_version": "1.5.0",
          "state": {
            "_dom_classes": [],
            "_model_module": "@jupyter-widgets/controls",
            "_model_module_version": "1.5.0",
            "_model_name": "HTMLModel",
            "_view_count": null,
            "_view_module": "@jupyter-widgets/controls",
            "_view_module_version": "1.5.0",
            "_view_name": "HTMLView",
            "description": "",
            "description_tooltip": null,
            "layout": "IPY_MODEL_98321e80ee0246f7b1cc9a3f333800f8",
            "placeholder": "​",
            "style": "IPY_MODEL_4cbc4857d9a9470e8228495913dcf597",
            "value": " 445M/445M [00:15&lt;00:00, 20.8MB/s]"
          }
        },
        "a562f776ddf142bda793840738463c2b": {
          "model_module": "@jupyter-widgets/base",
          "model_name": "LayoutModel",
          "model_module_version": "1.2.0",
          "state": {
            "_model_module": "@jupyter-widgets/base",
            "_model_module_version": "1.2.0",
            "_model_name": "LayoutModel",
            "_view_count": null,
            "_view_module": "@jupyter-widgets/base",
            "_view_module_version": "1.2.0",
            "_view_name": "LayoutView",
            "align_content": null,
            "align_items": null,
            "align_self": null,
            "border": null,
            "bottom": null,
            "display": null,
            "flex": null,
            "flex_flow": null,
            "grid_area": null,
            "grid_auto_columns": null,
            "grid_auto_flow": null,
            "grid_auto_rows": null,
            "grid_column": null,
            "grid_gap": null,
            "grid_row": null,
            "grid_template_areas": null,
            "grid_template_columns": null,
            "grid_template_rows": null,
            "height": null,
            "justify_content": null,
            "justify_items": null,
            "left": null,
            "margin": null,
            "max_height": null,
            "max_width": null,
            "min_height": null,
            "min_width": null,
            "object_fit": null,
            "object_position": null,
            "order": null,
            "overflow": null,
            "overflow_x": null,
            "overflow_y": null,
            "padding": null,
            "right": null,
            "top": null,
            "visibility": null,
            "width": null
          }
        },
        "329c16db03154bd8871e5b8509f2a1e9": {
          "model_module": "@jupyter-widgets/base",
          "model_name": "LayoutModel",
          "model_module_version": "1.2.0",
          "state": {
            "_model_module": "@jupyter-widgets/base",
            "_model_module_version": "1.2.0",
            "_model_name": "LayoutModel",
            "_view_count": null,
            "_view_module": "@jupyter-widgets/base",
            "_view_module_version": "1.2.0",
            "_view_name": "LayoutView",
            "align_content": null,
            "align_items": null,
            "align_self": null,
            "border": null,
            "bottom": null,
            "display": null,
            "flex": null,
            "flex_flow": null,
            "grid_area": null,
            "grid_auto_columns": null,
            "grid_auto_flow": null,
            "grid_auto_rows": null,
            "grid_column": null,
            "grid_gap": null,
            "grid_row": null,
            "grid_template_areas": null,
            "grid_template_columns": null,
            "grid_template_rows": null,
            "height": null,
            "justify_content": null,
            "justify_items": null,
            "left": null,
            "margin": null,
            "max_height": null,
            "max_width": null,
            "min_height": null,
            "min_width": null,
            "object_fit": null,
            "object_position": null,
            "order": null,
            "overflow": null,
            "overflow_x": null,
            "overflow_y": null,
            "padding": null,
            "right": null,
            "top": null,
            "visibility": null,
            "width": null
          }
        },
        "90cc97a9d5614fa39008a67f5f833c9c": {
          "model_module": "@jupyter-widgets/controls",
          "model_name": "DescriptionStyleModel",
          "model_module_version": "1.5.0",
          "state": {
            "_model_module": "@jupyter-widgets/controls",
            "_model_module_version": "1.5.0",
            "_model_name": "DescriptionStyleModel",
            "_view_count": null,
            "_view_module": "@jupyter-widgets/base",
            "_view_module_version": "1.2.0",
            "_view_name": "StyleView",
            "description_width": ""
          }
        },
        "32a0f49d0a1547c18afc8d91adeb4b4b": {
          "model_module": "@jupyter-widgets/base",
          "model_name": "LayoutModel",
          "model_module_version": "1.2.0",
          "state": {
            "_model_module": "@jupyter-widgets/base",
            "_model_module_version": "1.2.0",
            "_model_name": "LayoutModel",
            "_view_count": null,
            "_view_module": "@jupyter-widgets/base",
            "_view_module_version": "1.2.0",
            "_view_name": "LayoutView",
            "align_content": null,
            "align_items": null,
            "align_self": null,
            "border": null,
            "bottom": null,
            "display": null,
            "flex": null,
            "flex_flow": null,
            "grid_area": null,
            "grid_auto_columns": null,
            "grid_auto_flow": null,
            "grid_auto_rows": null,
            "grid_column": null,
            "grid_gap": null,
            "grid_row": null,
            "grid_template_areas": null,
            "grid_template_columns": null,
            "grid_template_rows": null,
            "height": null,
            "justify_content": null,
            "justify_items": null,
            "left": null,
            "margin": null,
            "max_height": null,
            "max_width": null,
            "min_height": null,
            "min_width": null,
            "object_fit": null,
            "object_position": null,
            "order": null,
            "overflow": null,
            "overflow_x": null,
            "overflow_y": null,
            "padding": null,
            "right": null,
            "top": null,
            "visibility": null,
            "width": null
          }
        },
        "25c488ea2b5849b4b5bed142b8e98bfa": {
          "model_module": "@jupyter-widgets/controls",
          "model_name": "ProgressStyleModel",
          "model_module_version": "1.5.0",
          "state": {
            "_model_module": "@jupyter-widgets/controls",
            "_model_module_version": "1.5.0",
            "_model_name": "ProgressStyleModel",
            "_view_count": null,
            "_view_module": "@jupyter-widgets/base",
            "_view_module_version": "1.2.0",
            "_view_name": "StyleView",
            "bar_color": null,
            "description_width": ""
          }
        },
        "98321e80ee0246f7b1cc9a3f333800f8": {
          "model_module": "@jupyter-widgets/base",
          "model_name": "LayoutModel",
          "model_module_version": "1.2.0",
          "state": {
            "_model_module": "@jupyter-widgets/base",
            "_model_module_version": "1.2.0",
            "_model_name": "LayoutModel",
            "_view_count": null,
            "_view_module": "@jupyter-widgets/base",
            "_view_module_version": "1.2.0",
            "_view_name": "LayoutView",
            "align_content": null,
            "align_items": null,
            "align_self": null,
            "border": null,
            "bottom": null,
            "display": null,
            "flex": null,
            "flex_flow": null,
            "grid_area": null,
            "grid_auto_columns": null,
            "grid_auto_flow": null,
            "grid_auto_rows": null,
            "grid_column": null,
            "grid_gap": null,
            "grid_row": null,
            "grid_template_areas": null,
            "grid_template_columns": null,
            "grid_template_rows": null,
            "height": null,
            "justify_content": null,
            "justify_items": null,
            "left": null,
            "margin": null,
            "max_height": null,
            "max_width": null,
            "min_height": null,
            "min_width": null,
            "object_fit": null,
            "object_position": null,
            "order": null,
            "overflow": null,
            "overflow_x": null,
            "overflow_y": null,
            "padding": null,
            "right": null,
            "top": null,
            "visibility": null,
            "width": null
          }
        },
        "4cbc4857d9a9470e8228495913dcf597": {
          "model_module": "@jupyter-widgets/controls",
          "model_name": "DescriptionStyleModel",
          "model_module_version": "1.5.0",
          "state": {
            "_model_module": "@jupyter-widgets/controls",
            "_model_module_version": "1.5.0",
            "_model_name": "DescriptionStyleModel",
            "_view_count": null,
            "_view_module": "@jupyter-widgets/base",
            "_view_module_version": "1.2.0",
            "_view_name": "StyleView",
            "description_width": ""
          }
        }
      }
    }
  },
  "cells": [
    {
      "cell_type": "code",
      "execution_count": 1,
      "metadata": {
        "colab": {
          "base_uri": "https://localhost:8080/"
        },
        "id": "-5_YDELDWhOO",
        "outputId": "ef35bdfb-20ee-4498-a05f-d0c2d57bb65a"
      },
      "outputs": [
        {
          "output_type": "stream",
          "name": "stdout",
          "text": [
            "Looking in indexes: https://pypi.org/simple, https://us-python.pkg.dev/colab-wheels/public/simple/\n",
            "Collecting transformers[ja]\n",
            "  Downloading transformers-4.23.1-py3-none-any.whl (5.3 MB)\n",
            "\u001b[K     |████████████████████████████████| 5.3 MB 7.2 MB/s \n",
            "\u001b[?25hRequirement already satisfied: tqdm>=4.27 in /usr/local/lib/python3.7/dist-packages (from transformers[ja]) (4.64.1)\n",
            "Requirement already satisfied: numpy>=1.17 in /usr/local/lib/python3.7/dist-packages (from transformers[ja]) (1.21.6)\n",
            "Collecting tokenizers!=0.11.3,<0.14,>=0.11.1\n",
            "  Downloading tokenizers-0.13.1-cp37-cp37m-manylinux_2_17_x86_64.manylinux2014_x86_64.whl (7.6 MB)\n",
            "\u001b[K     |████████████████████████████████| 7.6 MB 51.8 MB/s \n",
            "\u001b[?25hRequirement already satisfied: packaging>=20.0 in /usr/local/lib/python3.7/dist-packages (from transformers[ja]) (21.3)\n",
            "Collecting huggingface-hub<1.0,>=0.10.0\n",
            "  Downloading huggingface_hub-0.10.1-py3-none-any.whl (163 kB)\n",
            "\u001b[K     |████████████████████████████████| 163 kB 64.5 MB/s \n",
            "\u001b[?25hRequirement already satisfied: regex!=2019.12.17 in /usr/local/lib/python3.7/dist-packages (from transformers[ja]) (2022.6.2)\n",
            "Requirement already satisfied: importlib-metadata in /usr/local/lib/python3.7/dist-packages (from transformers[ja]) (4.13.0)\n",
            "Requirement already satisfied: requests in /usr/local/lib/python3.7/dist-packages (from transformers[ja]) (2.23.0)\n",
            "Requirement already satisfied: filelock in /usr/local/lib/python3.7/dist-packages (from transformers[ja]) (3.8.0)\n",
            "Requirement already satisfied: pyyaml>=5.1 in /usr/local/lib/python3.7/dist-packages (from transformers[ja]) (6.0)\n",
            "Collecting pyknp>=0.6.1\n",
            "  Downloading pyknp-0.6.1-py3-none-any.whl (42 kB)\n",
            "\u001b[K     |████████████████████████████████| 42 kB 1.4 MB/s \n",
            "\u001b[?25hCollecting sudachipy>=0.6.6\n",
            "  Downloading SudachiPy-0.6.6-cp37-cp37m-manylinux_2_5_x86_64.manylinux1_x86_64.manylinux_2_12_x86_64.manylinux2010_x86_64.whl (2.2 MB)\n",
            "\u001b[K     |████████████████████████████████| 2.2 MB 59.6 MB/s \n",
            "\u001b[?25hCollecting fugashi>=1.0\n",
            "  Downloading fugashi-1.2.0-cp37-cp37m-manylinux_2_17_x86_64.manylinux2014_x86_64.whl (583 kB)\n",
            "\u001b[K     |████████████████████████████████| 583 kB 61.3 MB/s \n",
            "\u001b[?25hCollecting unidic>=1.0.2\n",
            "  Downloading unidic-1.1.0.tar.gz (7.7 kB)\n",
            "Collecting sudachidict-core>=20220729\n",
            "  Downloading SudachiDict-core-20220729.tar.gz (9.1 kB)\n",
            "Collecting ipadic<2.0,>=1.0.0\n",
            "  Downloading ipadic-1.0.0.tar.gz (13.4 MB)\n",
            "\u001b[K     |████████████████████████████████| 13.4 MB 55.5 MB/s \n",
            "\u001b[?25hCollecting unidic-lite>=1.0.7\n",
            "  Downloading unidic-lite-1.0.8.tar.gz (47.4 MB)\n",
            "\u001b[K     |████████████████████████████████| 47.4 MB 124 kB/s \n",
            "\u001b[?25hRequirement already satisfied: typing-extensions>=3.7.4.3 in /usr/local/lib/python3.7/dist-packages (from huggingface-hub<1.0,>=0.10.0->transformers[ja]) (4.1.1)\n",
            "Requirement already satisfied: pyparsing!=3.0.5,>=2.0.2 in /usr/local/lib/python3.7/dist-packages (from packaging>=20.0->transformers[ja]) (3.0.9)\n",
            "Requirement already satisfied: six in /usr/local/lib/python3.7/dist-packages (from pyknp>=0.6.1->transformers[ja]) (1.15.0)\n",
            "Requirement already satisfied: wasabi<1.0.0,>=0.6.0 in /usr/local/lib/python3.7/dist-packages (from unidic>=1.0.2->transformers[ja]) (0.10.1)\n",
            "Collecting plac<2.0.0,>=1.1.3\n",
            "  Downloading plac-1.3.5-py2.py3-none-any.whl (22 kB)\n",
            "Requirement already satisfied: urllib3!=1.25.0,!=1.25.1,<1.26,>=1.21.1 in /usr/local/lib/python3.7/dist-packages (from requests->transformers[ja]) (1.24.3)\n",
            "Requirement already satisfied: certifi>=2017.4.17 in /usr/local/lib/python3.7/dist-packages (from requests->transformers[ja]) (2022.9.24)\n",
            "Requirement already satisfied: chardet<4,>=3.0.2 in /usr/local/lib/python3.7/dist-packages (from requests->transformers[ja]) (3.0.4)\n",
            "Requirement already satisfied: idna<3,>=2.5 in /usr/local/lib/python3.7/dist-packages (from requests->transformers[ja]) (2.10)\n",
            "Requirement already satisfied: zipp>=0.5 in /usr/local/lib/python3.7/dist-packages (from importlib-metadata->transformers[ja]) (3.9.0)\n",
            "Building wheels for collected packages: ipadic, sudachidict-core, unidic, unidic-lite\n",
            "  Building wheel for ipadic (setup.py) ... \u001b[?25l\u001b[?25hdone\n",
            "  Created wheel for ipadic: filename=ipadic-1.0.0-py3-none-any.whl size=13556723 sha256=9b548e3bf9cb48b150f5e9bc34ffa256973521e64f3e9239ffdeed18fc5eb1ff\n",
            "  Stored in directory: /root/.cache/pip/wheels/33/8b/99/cf0d27191876637cd3639a560f93aa982d7855ce826c94348b\n",
            "  Building wheel for sudachidict-core (setup.py) ... \u001b[?25l\u001b[?25hdone\n",
            "  Created wheel for sudachidict-core: filename=SudachiDict_core-20220729-py3-none-any.whl size=71570387 sha256=61dfbd2c5975bd4b838ef14239650b6b1cf28d73d7344948c5980e362f18c131\n",
            "  Stored in directory: /root/.cache/pip/wheels/ff/47/2b/6dcb905d9086fc6f9b7af821f7145f785d36070b827b7f80b7\n",
            "  Building wheel for unidic (setup.py) ... \u001b[?25l\u001b[?25hdone\n",
            "  Created wheel for unidic: filename=unidic-1.1.0-py3-none-any.whl size=7426 sha256=6a30d59b2641dadd1102dc38710ebb7c6d3ffb93bdd8a6ec98f2f0fbae23bf6c\n",
            "  Stored in directory: /root/.cache/pip/wheels/ce/4d/f1/170bb74b559ca338113c0315c9805e16dfd0a12411ec6b1122\n",
            "  Building wheel for unidic-lite (setup.py) ... \u001b[?25l\u001b[?25hdone\n",
            "  Created wheel for unidic-lite: filename=unidic_lite-1.0.8-py3-none-any.whl size=47658836 sha256=a9272519000b4ec3c7d8c0047c32bd583e2382f3554eee8fde55b34f9fea8cb2\n",
            "  Stored in directory: /root/.cache/pip/wheels/de/69/b1/112140b599f2b13f609d485a99e357ba68df194d2079c5b1a2\n",
            "Successfully built ipadic sudachidict-core unidic unidic-lite\n",
            "Installing collected packages: tokenizers, sudachipy, plac, huggingface-hub, unidic-lite, unidic, transformers, sudachidict-core, pyknp, ipadic, fugashi\n",
            "Successfully installed fugashi-1.2.0 huggingface-hub-0.10.1 ipadic-1.0.0 plac-1.3.5 pyknp-0.6.1 sudachidict-core-20220729 sudachipy-0.6.6 tokenizers-0.13.1 transformers-4.23.1 unidic-1.1.0 unidic-lite-1.0.8\n"
          ]
        }
      ],
      "source": [
        "!pip install transformers[ja]"
      ]
    },
    {
      "cell_type": "code",
      "source": [
        "!pip list | grep torch\n",
        "!pip list | grep transformers\n",
        "!pip list | grep fugashi  \n",
        "!pip list | grep ipadic"
      ],
      "metadata": {
        "colab": {
          "base_uri": "https://localhost:8080/"
        },
        "id": "3RlINDGkWmcj",
        "outputId": "12655606-d618-478e-8600-b192d9ea8d91"
      },
      "execution_count": 2,
      "outputs": [
        {
          "output_type": "stream",
          "name": "stdout",
          "text": [
            "torch                         1.12.1+cu113\n",
            "torchaudio                    0.12.1+cu113\n",
            "torchsummary                  1.5.1\n",
            "torchtext                     0.13.1\n",
            "torchvision                   0.13.1+cu113\n",
            "transformers                  4.23.1\n",
            "fugashi                       1.2.0\n",
            "ipadic                        1.0.0\n"
          ]
        }
      ]
    },
    {
      "cell_type": "code",
      "source": [
        "!pip install torchtext==0.9.1"
      ],
      "metadata": {
        "colab": {
          "base_uri": "https://localhost:8080/"
        },
        "id": "OG7Jt4zpDfDg",
        "outputId": "baedb022-92cd-427a-c802-ff6f5b751890"
      },
      "execution_count": 3,
      "outputs": [
        {
          "output_type": "stream",
          "name": "stdout",
          "text": [
            "Looking in indexes: https://pypi.org/simple, https://us-python.pkg.dev/colab-wheels/public/simple/\n",
            "Collecting torchtext==0.9.1\n",
            "  Downloading torchtext-0.9.1-cp37-cp37m-manylinux1_x86_64.whl (7.1 MB)\n",
            "\u001b[K     |████████████████████████████████| 7.1 MB 18.5 MB/s \n",
            "\u001b[?25hRequirement already satisfied: numpy in /usr/local/lib/python3.7/dist-packages (from torchtext==0.9.1) (1.21.6)\n",
            "Requirement already satisfied: requests in /usr/local/lib/python3.7/dist-packages (from torchtext==0.9.1) (2.23.0)\n",
            "Collecting torch==1.8.1\n",
            "  Downloading torch-1.8.1-cp37-cp37m-manylinux1_x86_64.whl (804.1 MB)\n",
            "\u001b[K     |████████████████████████████████| 804.1 MB 2.8 kB/s \n",
            "\u001b[?25hRequirement already satisfied: tqdm in /usr/local/lib/python3.7/dist-packages (from torchtext==0.9.1) (4.64.1)\n",
            "Requirement already satisfied: typing-extensions in /usr/local/lib/python3.7/dist-packages (from torch==1.8.1->torchtext==0.9.1) (4.1.1)\n",
            "Requirement already satisfied: urllib3!=1.25.0,!=1.25.1,<1.26,>=1.21.1 in /usr/local/lib/python3.7/dist-packages (from requests->torchtext==0.9.1) (1.24.3)\n",
            "Requirement already satisfied: chardet<4,>=3.0.2 in /usr/local/lib/python3.7/dist-packages (from requests->torchtext==0.9.1) (3.0.4)\n",
            "Requirement already satisfied: idna<3,>=2.5 in /usr/local/lib/python3.7/dist-packages (from requests->torchtext==0.9.1) (2.10)\n",
            "Requirement already satisfied: certifi>=2017.4.17 in /usr/local/lib/python3.7/dist-packages (from requests->torchtext==0.9.1) (2022.9.24)\n",
            "Installing collected packages: torch, torchtext\n",
            "  Attempting uninstall: torch\n",
            "    Found existing installation: torch 1.12.1+cu113\n",
            "    Uninstalling torch-1.12.1+cu113:\n",
            "      Successfully uninstalled torch-1.12.1+cu113\n",
            "  Attempting uninstall: torchtext\n",
            "    Found existing installation: torchtext 0.13.1\n",
            "    Uninstalling torchtext-0.13.1:\n",
            "      Successfully uninstalled torchtext-0.13.1\n",
            "\u001b[31mERROR: pip's dependency resolver does not currently take into account all the packages that are installed. This behaviour is the source of the following dependency conflicts.\n",
            "torchvision 0.13.1+cu113 requires torch==1.12.1, but you have torch 1.8.1 which is incompatible.\n",
            "torchaudio 0.12.1+cu113 requires torch==1.12.1, but you have torch 1.8.1 which is incompatible.\u001b[0m\n",
            "Successfully installed torch-1.8.1 torchtext-0.9.1\n"
          ]
        }
      ]
    },
    {
      "cell_type": "code",
      "source": [
        "import numpy as np\n",
        "import pandas as pd\n",
        "import pickle\n",
        "from sklearn.model_selection import train_test_split\n",
        "from sklearn.metrics import classification_report\n",
        "\n",
        "import torch\n",
        "import torch.nn as nn\n",
        "import torch.nn.functional as F\n",
        "import torch.optim as optim\n",
        "import torchtext\n",
        "\n",
        "# データ読み込み\n",
        "# with open('livedoor_data.pickle', 'rb') as r:\n",
        "#     livedoor_data = pickle.load(r)\n",
        "livedoor_data = pd.read_table(\"all.tsv\")\n",
        "\n",
        "# データ確認\n",
        "display(livedoor_data.head())\n",
        "\n",
        "# 正解ラベル（カテゴリー）をデータセットから取得\n",
        "categories = list(set(livedoor_data['category']))\n",
        "print(categories)\n",
        "\n",
        "# カテゴリーのID辞書を作成\n",
        "id2cat = dict(zip(list(range(len(categories))), categories))\n",
        "cat2id = dict(zip(categories, list(range(len(categories)))))\n",
        "print(id2cat)\n",
        "print(cat2id)\n",
        "\n",
        "# DataFrameにカテゴリーID列を追加\n",
        "livedoor_data['category_id'] = livedoor_data['category'].map(cat2id)\n",
        "\n",
        "# 念の為シャッフル\n",
        "livedoor_data = livedoor_data.sample(frac=1).reset_index(drop=True)\n",
        "\n",
        "# データセットを本文とカテゴリーID列だけにする\n",
        "livedoor_data = livedoor_data[['body', 'category_id']]\n",
        "display(livedoor_data.head())"
      ],
      "metadata": {
        "colab": {
          "base_uri": "https://localhost:8080/",
          "height": 447
        },
        "id": "F0yuTveUWoer",
        "outputId": "edc7d919-68ff-4516-9c95-50483002abed"
      },
      "execution_count": 4,
      "outputs": [
        {
          "output_type": "display_data",
          "data": {
            "text/plain": [
              "  category  labels  no                                               body\n",
              "0     fact       1 NaN  韓国軍合同参謀本部は19日、北朝鮮が18日夜から19日午後にかけて、南北軍事境界線の近くで、...\n",
              "1     fact       1 NaN       2018年の南北軍事合意で砲撃が禁じられた区域に着弾したが、韓国領海への着弾はなかった。\n",
              "2     fact       1 NaN  これに対し、北朝鮮の朝鮮人民軍総参謀部の報道官は19日、砲撃の理由について、「敵（韓国軍）は...\n",
              "3     fact       1 NaN  神奈川県弁護士会は１８日、刑務所で被収容者に閉居罰の受罰姿勢として正座やあぐらを強制すること...\n",
              "4     fact       1 NaN              その日のうちに、渡辺容疑者を、被害男性に対する監禁の疑いで、緊急逮捕した。"
            ],
            "text/html": [
              "\n",
              "  <div id=\"df-fc3305bb-c85a-493e-b130-03ed1e5af0f9\">\n",
              "    <div class=\"colab-df-container\">\n",
              "      <div>\n",
              "<style scoped>\n",
              "    .dataframe tbody tr th:only-of-type {\n",
              "        vertical-align: middle;\n",
              "    }\n",
              "\n",
              "    .dataframe tbody tr th {\n",
              "        vertical-align: top;\n",
              "    }\n",
              "\n",
              "    .dataframe thead th {\n",
              "        text-align: right;\n",
              "    }\n",
              "</style>\n",
              "<table border=\"1\" class=\"dataframe\">\n",
              "  <thead>\n",
              "    <tr style=\"text-align: right;\">\n",
              "      <th></th>\n",
              "      <th>category</th>\n",
              "      <th>labels</th>\n",
              "      <th>no</th>\n",
              "      <th>body</th>\n",
              "    </tr>\n",
              "  </thead>\n",
              "  <tbody>\n",
              "    <tr>\n",
              "      <th>0</th>\n",
              "      <td>fact</td>\n",
              "      <td>1</td>\n",
              "      <td>NaN</td>\n",
              "      <td>韓国軍合同参謀本部は19日、北朝鮮が18日夜から19日午後にかけて、南北軍事境界線の近くで、...</td>\n",
              "    </tr>\n",
              "    <tr>\n",
              "      <th>1</th>\n",
              "      <td>fact</td>\n",
              "      <td>1</td>\n",
              "      <td>NaN</td>\n",
              "      <td>2018年の南北軍事合意で砲撃が禁じられた区域に着弾したが、韓国領海への着弾はなかった。</td>\n",
              "    </tr>\n",
              "    <tr>\n",
              "      <th>2</th>\n",
              "      <td>fact</td>\n",
              "      <td>1</td>\n",
              "      <td>NaN</td>\n",
              "      <td>これに対し、北朝鮮の朝鮮人民軍総参謀部の報道官は19日、砲撃の理由について、「敵（韓国軍）は...</td>\n",
              "    </tr>\n",
              "    <tr>\n",
              "      <th>3</th>\n",
              "      <td>fact</td>\n",
              "      <td>1</td>\n",
              "      <td>NaN</td>\n",
              "      <td>神奈川県弁護士会は１８日、刑務所で被収容者に閉居罰の受罰姿勢として正座やあぐらを強制すること...</td>\n",
              "    </tr>\n",
              "    <tr>\n",
              "      <th>4</th>\n",
              "      <td>fact</td>\n",
              "      <td>1</td>\n",
              "      <td>NaN</td>\n",
              "      <td>その日のうちに、渡辺容疑者を、被害男性に対する監禁の疑いで、緊急逮捕した。</td>\n",
              "    </tr>\n",
              "  </tbody>\n",
              "</table>\n",
              "</div>\n",
              "      <button class=\"colab-df-convert\" onclick=\"convertToInteractive('df-fc3305bb-c85a-493e-b130-03ed1e5af0f9')\"\n",
              "              title=\"Convert this dataframe to an interactive table.\"\n",
              "              style=\"display:none;\">\n",
              "        \n",
              "  <svg xmlns=\"http://www.w3.org/2000/svg\" height=\"24px\"viewBox=\"0 0 24 24\"\n",
              "       width=\"24px\">\n",
              "    <path d=\"M0 0h24v24H0V0z\" fill=\"none\"/>\n",
              "    <path d=\"M18.56 5.44l.94 2.06.94-2.06 2.06-.94-2.06-.94-.94-2.06-.94 2.06-2.06.94zm-11 1L8.5 8.5l.94-2.06 2.06-.94-2.06-.94L8.5 2.5l-.94 2.06-2.06.94zm10 10l.94 2.06.94-2.06 2.06-.94-2.06-.94-.94-2.06-.94 2.06-2.06.94z\"/><path d=\"M17.41 7.96l-1.37-1.37c-.4-.4-.92-.59-1.43-.59-.52 0-1.04.2-1.43.59L10.3 9.45l-7.72 7.72c-.78.78-.78 2.05 0 2.83L4 21.41c.39.39.9.59 1.41.59.51 0 1.02-.2 1.41-.59l7.78-7.78 2.81-2.81c.8-.78.8-2.07 0-2.86zM5.41 20L4 18.59l7.72-7.72 1.47 1.35L5.41 20z\"/>\n",
              "  </svg>\n",
              "      </button>\n",
              "      \n",
              "  <style>\n",
              "    .colab-df-container {\n",
              "      display:flex;\n",
              "      flex-wrap:wrap;\n",
              "      gap: 12px;\n",
              "    }\n",
              "\n",
              "    .colab-df-convert {\n",
              "      background-color: #E8F0FE;\n",
              "      border: none;\n",
              "      border-radius: 50%;\n",
              "      cursor: pointer;\n",
              "      display: none;\n",
              "      fill: #1967D2;\n",
              "      height: 32px;\n",
              "      padding: 0 0 0 0;\n",
              "      width: 32px;\n",
              "    }\n",
              "\n",
              "    .colab-df-convert:hover {\n",
              "      background-color: #E2EBFA;\n",
              "      box-shadow: 0px 1px 2px rgba(60, 64, 67, 0.3), 0px 1px 3px 1px rgba(60, 64, 67, 0.15);\n",
              "      fill: #174EA6;\n",
              "    }\n",
              "\n",
              "    [theme=dark] .colab-df-convert {\n",
              "      background-color: #3B4455;\n",
              "      fill: #D2E3FC;\n",
              "    }\n",
              "\n",
              "    [theme=dark] .colab-df-convert:hover {\n",
              "      background-color: #434B5C;\n",
              "      box-shadow: 0px 1px 3px 1px rgba(0, 0, 0, 0.15);\n",
              "      filter: drop-shadow(0px 1px 2px rgba(0, 0, 0, 0.3));\n",
              "      fill: #FFFFFF;\n",
              "    }\n",
              "  </style>\n",
              "\n",
              "      <script>\n",
              "        const buttonEl =\n",
              "          document.querySelector('#df-fc3305bb-c85a-493e-b130-03ed1e5af0f9 button.colab-df-convert');\n",
              "        buttonEl.style.display =\n",
              "          google.colab.kernel.accessAllowed ? 'block' : 'none';\n",
              "\n",
              "        async function convertToInteractive(key) {\n",
              "          const element = document.querySelector('#df-fc3305bb-c85a-493e-b130-03ed1e5af0f9');\n",
              "          const dataTable =\n",
              "            await google.colab.kernel.invokeFunction('convertToInteractive',\n",
              "                                                     [key], {});\n",
              "          if (!dataTable) return;\n",
              "\n",
              "          const docLinkHtml = 'Like what you see? Visit the ' +\n",
              "            '<a target=\"_blank\" href=https://colab.research.google.com/notebooks/data_table.ipynb>data table notebook</a>'\n",
              "            + ' to learn more about interactive tables.';\n",
              "          element.innerHTML = '';\n",
              "          dataTable['output_type'] = 'display_data';\n",
              "          await google.colab.output.renderOutput(dataTable, element);\n",
              "          const docLink = document.createElement('div');\n",
              "          docLink.innerHTML = docLinkHtml;\n",
              "          element.appendChild(docLink);\n",
              "        }\n",
              "      </script>\n",
              "    </div>\n",
              "  </div>\n",
              "  "
            ]
          },
          "metadata": {}
        },
        {
          "output_type": "stream",
          "name": "stdout",
          "text": [
            "['opinion', 'fact']\n",
            "{0: 'opinion', 1: 'fact'}\n",
            "{'opinion': 0, 'fact': 1}\n"
          ]
        },
        {
          "output_type": "display_data",
          "data": {
            "text/plain": [
              "                                                body  category_id\n",
              "0                生前にリハーサルをすれば、本人確認のうえで、より理想に近づけられます。            0\n",
              "1  たとえば企業の俊敏性向上にはトップから現場まで、デジタル時代に即した行動やコミュニケーション...            0\n",
              "2                  睡眠の質向上、ストレス緩和などの商品特性が消費者に浸透したからだ。            0\n",
              "3                      確かに二〇一三年以降の大規模金融緩和は雇用と株価を支えた。            1\n",
              "4  週明け24日頃からは再び冷たい空気が流れ込み、最高気温、最低気温ともに平年を下回る所が多くな...            0"
            ],
            "text/html": [
              "\n",
              "  <div id=\"df-5bf82a09-8944-41db-b7ae-8b662a549bd2\">\n",
              "    <div class=\"colab-df-container\">\n",
              "      <div>\n",
              "<style scoped>\n",
              "    .dataframe tbody tr th:only-of-type {\n",
              "        vertical-align: middle;\n",
              "    }\n",
              "\n",
              "    .dataframe tbody tr th {\n",
              "        vertical-align: top;\n",
              "    }\n",
              "\n",
              "    .dataframe thead th {\n",
              "        text-align: right;\n",
              "    }\n",
              "</style>\n",
              "<table border=\"1\" class=\"dataframe\">\n",
              "  <thead>\n",
              "    <tr style=\"text-align: right;\">\n",
              "      <th></th>\n",
              "      <th>body</th>\n",
              "      <th>category_id</th>\n",
              "    </tr>\n",
              "  </thead>\n",
              "  <tbody>\n",
              "    <tr>\n",
              "      <th>0</th>\n",
              "      <td>生前にリハーサルをすれば、本人確認のうえで、より理想に近づけられます。</td>\n",
              "      <td>0</td>\n",
              "    </tr>\n",
              "    <tr>\n",
              "      <th>1</th>\n",
              "      <td>たとえば企業の俊敏性向上にはトップから現場まで、デジタル時代に即した行動やコミュニケーション...</td>\n",
              "      <td>0</td>\n",
              "    </tr>\n",
              "    <tr>\n",
              "      <th>2</th>\n",
              "      <td>睡眠の質向上、ストレス緩和などの商品特性が消費者に浸透したからだ。</td>\n",
              "      <td>0</td>\n",
              "    </tr>\n",
              "    <tr>\n",
              "      <th>3</th>\n",
              "      <td>確かに二〇一三年以降の大規模金融緩和は雇用と株価を支えた。</td>\n",
              "      <td>1</td>\n",
              "    </tr>\n",
              "    <tr>\n",
              "      <th>4</th>\n",
              "      <td>週明け24日頃からは再び冷たい空気が流れ込み、最高気温、最低気温ともに平年を下回る所が多くな...</td>\n",
              "      <td>0</td>\n",
              "    </tr>\n",
              "  </tbody>\n",
              "</table>\n",
              "</div>\n",
              "      <button class=\"colab-df-convert\" onclick=\"convertToInteractive('df-5bf82a09-8944-41db-b7ae-8b662a549bd2')\"\n",
              "              title=\"Convert this dataframe to an interactive table.\"\n",
              "              style=\"display:none;\">\n",
              "        \n",
              "  <svg xmlns=\"http://www.w3.org/2000/svg\" height=\"24px\"viewBox=\"0 0 24 24\"\n",
              "       width=\"24px\">\n",
              "    <path d=\"M0 0h24v24H0V0z\" fill=\"none\"/>\n",
              "    <path d=\"M18.56 5.44l.94 2.06.94-2.06 2.06-.94-2.06-.94-.94-2.06-.94 2.06-2.06.94zm-11 1L8.5 8.5l.94-2.06 2.06-.94-2.06-.94L8.5 2.5l-.94 2.06-2.06.94zm10 10l.94 2.06.94-2.06 2.06-.94-2.06-.94-.94-2.06-.94 2.06-2.06.94z\"/><path d=\"M17.41 7.96l-1.37-1.37c-.4-.4-.92-.59-1.43-.59-.52 0-1.04.2-1.43.59L10.3 9.45l-7.72 7.72c-.78.78-.78 2.05 0 2.83L4 21.41c.39.39.9.59 1.41.59.51 0 1.02-.2 1.41-.59l7.78-7.78 2.81-2.81c.8-.78.8-2.07 0-2.86zM5.41 20L4 18.59l7.72-7.72 1.47 1.35L5.41 20z\"/>\n",
              "  </svg>\n",
              "      </button>\n",
              "      \n",
              "  <style>\n",
              "    .colab-df-container {\n",
              "      display:flex;\n",
              "      flex-wrap:wrap;\n",
              "      gap: 12px;\n",
              "    }\n",
              "\n",
              "    .colab-df-convert {\n",
              "      background-color: #E8F0FE;\n",
              "      border: none;\n",
              "      border-radius: 50%;\n",
              "      cursor: pointer;\n",
              "      display: none;\n",
              "      fill: #1967D2;\n",
              "      height: 32px;\n",
              "      padding: 0 0 0 0;\n",
              "      width: 32px;\n",
              "    }\n",
              "\n",
              "    .colab-df-convert:hover {\n",
              "      background-color: #E2EBFA;\n",
              "      box-shadow: 0px 1px 2px rgba(60, 64, 67, 0.3), 0px 1px 3px 1px rgba(60, 64, 67, 0.15);\n",
              "      fill: #174EA6;\n",
              "    }\n",
              "\n",
              "    [theme=dark] .colab-df-convert {\n",
              "      background-color: #3B4455;\n",
              "      fill: #D2E3FC;\n",
              "    }\n",
              "\n",
              "    [theme=dark] .colab-df-convert:hover {\n",
              "      background-color: #434B5C;\n",
              "      box-shadow: 0px 1px 3px 1px rgba(0, 0, 0, 0.15);\n",
              "      filter: drop-shadow(0px 1px 2px rgba(0, 0, 0, 0.3));\n",
              "      fill: #FFFFFF;\n",
              "    }\n",
              "  </style>\n",
              "\n",
              "      <script>\n",
              "        const buttonEl =\n",
              "          document.querySelector('#df-5bf82a09-8944-41db-b7ae-8b662a549bd2 button.colab-df-convert');\n",
              "        buttonEl.style.display =\n",
              "          google.colab.kernel.accessAllowed ? 'block' : 'none';\n",
              "\n",
              "        async function convertToInteractive(key) {\n",
              "          const element = document.querySelector('#df-5bf82a09-8944-41db-b7ae-8b662a549bd2');\n",
              "          const dataTable =\n",
              "            await google.colab.kernel.invokeFunction('convertToInteractive',\n",
              "                                                     [key], {});\n",
              "          if (!dataTable) return;\n",
              "\n",
              "          const docLinkHtml = 'Like what you see? Visit the ' +\n",
              "            '<a target=\"_blank\" href=https://colab.research.google.com/notebooks/data_table.ipynb>data table notebook</a>'\n",
              "            + ' to learn more about interactive tables.';\n",
              "          element.innerHTML = '';\n",
              "          dataTable['output_type'] = 'display_data';\n",
              "          await google.colab.output.renderOutput(dataTable, element);\n",
              "          const docLink = document.createElement('div');\n",
              "          docLink.innerHTML = docLinkHtml;\n",
              "          element.appendChild(docLink);\n",
              "        }\n",
              "      </script>\n",
              "    </div>\n",
              "  </div>\n",
              "  "
            ]
          },
          "metadata": {}
        }
      ]
    },
    {
      "cell_type": "code",
      "source": [
        "train_df, test_df = train_test_split(livedoor_data, train_size=0.8)\n",
        "print(\"学習データサイズ\", train_df.shape[0])\n",
        "print(\"テストデータサイズ\", test_df.shape[0])\n",
        "#学習データサイズ 5900\n",
        "#テストデータサイズ 1476\n",
        "\n",
        "# tsvファイルとして保存する\n",
        "train_df.to_csv('./train.tsv', sep='\\t', index=False, header=None)\n",
        "test_df.to_csv('./test.tsv', sep='\\t', index=False, header=None)"
      ],
      "metadata": {
        "id": "gHBqzFayWqZ3",
        "colab": {
          "base_uri": "https://localhost:8080/"
        },
        "outputId": "ad31270d-08cc-4104-a381-7fa8df171626"
      },
      "execution_count": 5,
      "outputs": [
        {
          "output_type": "stream",
          "name": "stdout",
          "text": [
            "学習データサイズ 480\n",
            "テストデータサイズ 121\n"
          ]
        }
      ]
    },
    {
      "cell_type": "code",
      "source": [
        "# !pip install transformers==4.5.1"
      ],
      "metadata": {
        "id": "nXX5DaaVA3mT"
      },
      "execution_count": 6,
      "outputs": []
    },
    {
      "cell_type": "code",
      "source": [
        "# from transformers.modeling_bert import BertModel\n",
        "from transformers import BertModel\n",
        "# from transformers.tokenization_bert_japanese import BertJapaneseTokenizer\n",
        "from transformers import BertJapaneseTokenizer"
      ],
      "metadata": {
        "id": "Vna7IlgXWsLm"
      },
      "execution_count": 7,
      "outputs": []
    },
    {
      "cell_type": "code",
      "source": [
        "from transformers import BertModel\n",
        "# from transformers import BertTokenizer\n",
        "from transformers import AutoTokenizer\n",
        "from torchtext.legacy import data\n",
        "\n",
        "tokenizer = AutoTokenizer.from_pretrained('cl-tohoku/bert-base-japanese-whole-word-masking')\n",
        "\n",
        "# BERTはサブワードを含めて最大512単語まで扱える\n",
        "MAX_LENGTH = 512\n",
        "def bert_tokenizer(text):\n",
        "    return tokenizer.encode(text, max_length=MAX_LENGTH, truncation=True, return_tensors='pt')[0]\n",
        "\n",
        "TEXT = torchtext.legacy.data.Field(sequential=True, tokenize=bert_tokenizer, use_vocab=False, lower=False,include_lengths=True, batch_first=True, fix_length=MAX_LENGTH, pad_token=0)\n",
        "LABEL = torchtext.legacy.data.Field(sequential=False, use_vocab=False)\n",
        "\n",
        "train_data, test_data = torchtext.legacy.data.TabularDataset.splits(path='./', train='train.tsv', test='test.tsv', format='tsv', fields=[('Text', TEXT), ('Label', LABEL)])\n",
        "\n",
        "# BERTではミニバッチサイズは16か32が推奨される\n",
        "BATCH_SIZE = 16\n",
        "train_iter, test_iter = torchtext.legacy.data.Iterator.splits((train_data, test_data), batch_sizes=(BATCH_SIZE, BATCH_SIZE), repeat=False, sort=False)"
      ],
      "metadata": {
        "id": "rOCJ98hsWuLm",
        "colab": {
          "base_uri": "https://localhost:8080/",
          "height": 113,
          "referenced_widgets": [
            "d371dfe896bd4392a617a44910b15762",
            "d5f688cb20c44a8b943337e8fe362905",
            "15f70d27ce3b45b199ab8b42d182bf7e",
            "6c17086d13df4d198af1fd96fae7d3ea",
            "d370a5d11c5a483297b7752500f08e3b",
            "4f15e56af9d24a7face3553245a721a8",
            "9cc45206ae4b4a07be8c351974439f9d",
            "0b2e431fedef4f479d2bec5108cd2328",
            "bb4282264e604c7ab609b92b071d192d",
            "137ad30f7b624762b15af64ba11502c7",
            "6e7904b49ecc49c990b528a59d24fc55",
            "5c398d90e9eb47e681bca081f82ba8de",
            "dd4c22990c494fbabbcbcb1cca679f6f",
            "36d20e42d19a4bd2b20b3ba7eda11fb0",
            "49159ceb3a844b1db959b44724e8d4c0",
            "41811c21a1c94ae486236ef8a873d7d5",
            "e173ba34b7d5430c885eeb1ce0296658",
            "0a80bedc57e444f0b2edc32567aba6de",
            "c294418e505042ba9942434ede51a3dc",
            "fe895125f1394b678815dfdfbf25c5a4",
            "00ac0639718943ccbc278a2687e07880",
            "755d0de2b5f74cc8a92824aa956c90a9",
            "81c1a4f3090043c6ada27a9bda733c7f",
            "ae231aca106f4b8ca825fd7c1b5682c9",
            "9b6c00e307024be9a21f510c4575e983",
            "c158fad27481492db4fe4ee61b458721",
            "ef621442325a4b6199dc01a5c29600cc",
            "056dd420e3be4523885668b636c77ae4",
            "aa3b26bb9bfd4c218bd64cd5664c0e52",
            "ebad612a10a94ab18a448b73df9e64ce",
            "7a0111d06f744c789bd47ea1d4e48eae",
            "32bde9205f86407a80a295bf6ff32b22",
            "22d83a4e5573457ab8ce406e399a50c3"
          ]
        },
        "outputId": "a759cae4-43da-4cae-f02e-41996323abfc"
      },
      "execution_count": 8,
      "outputs": [
        {
          "output_type": "display_data",
          "data": {
            "text/plain": [
              "Downloading:   0%|          | 0.00/110 [00:00<?, ?B/s]"
            ],
            "application/vnd.jupyter.widget-view+json": {
              "version_major": 2,
              "version_minor": 0,
              "model_id": "d371dfe896bd4392a617a44910b15762"
            }
          },
          "metadata": {}
        },
        {
          "output_type": "display_data",
          "data": {
            "text/plain": [
              "Downloading:   0%|          | 0.00/479 [00:00<?, ?B/s]"
            ],
            "application/vnd.jupyter.widget-view+json": {
              "version_major": 2,
              "version_minor": 0,
              "model_id": "5c398d90e9eb47e681bca081f82ba8de"
            }
          },
          "metadata": {}
        },
        {
          "output_type": "display_data",
          "data": {
            "text/plain": [
              "Downloading:   0%|          | 0.00/258k [00:00<?, ?B/s]"
            ],
            "application/vnd.jupyter.widget-view+json": {
              "version_major": 2,
              "version_minor": 0,
              "model_id": "81c1a4f3090043c6ada27a9bda733c7f"
            }
          },
          "metadata": {}
        }
      ]
    },
    {
      "cell_type": "code",
      "source": [
        "from transformers import BertTokenizer\n",
        "from transformers import AutoTokenizer\n",
        "\n",
        "a_tokenizer = AutoTokenizer.from_pretrained('cl-tohoku/bert-base-japanese-whole-word-masking')\n",
        "b_tokenizer = BertTokenizer.from_pretrained('cl-tohoku/bert-base-japanese-whole-word-masking')\n",
        "\n",
        "text = \"人工知能は人間の仕事を奪った。\"\n",
        "\n",
        "ids = a_tokenizer.encode(text, return_tensors='pt')[0]\n",
        "wakati = a_tokenizer.convert_ids_to_tokens(ids)\n",
        "print(ids)\n",
        "print(wakati)\n",
        "\n",
        "ids = b_tokenizer.encode(text, return_tensors='pt')[0]\n",
        "wakati = b_tokenizer.convert_ids_to_tokens(ids)\n",
        "print(ids)\n",
        "print(wakati)"
      ],
      "metadata": {
        "id": "cf-1KrT5WxX1",
        "colab": {
          "base_uri": "https://localhost:8080/"
        },
        "outputId": "767ed4bd-61c3-4e00-c6e0-17510ceb2dcc"
      },
      "execution_count": 9,
      "outputs": [
        {
          "output_type": "stream",
          "name": "stderr",
          "text": [
            "The tokenizer class you load from this checkpoint is not the same type as the class this function is called from. It may result in unexpected tokenization. \n",
            "The tokenizer class you load from this checkpoint is 'BertJapaneseTokenizer'. \n",
            "The class this function is called from is 'BertTokenizer'.\n"
          ]
        },
        {
          "output_type": "stream",
          "name": "stdout",
          "text": [
            "tensor([    2,  4969, 12588,     9,  1410,     5,  2198,    11, 11224,    10,\n",
            "            8,     3])\n",
            "['[CLS]', '人工', '知能', 'は', '人間', 'の', '仕事', 'を', '奪っ', 'た', '。', '[SEP]']\n",
            "tensor([    2,    53,   461,   357,  1329,     9,    53,   284,     5,   757,\n",
            "          146,    11,  1847,  4046, 28447,     8,     3])\n",
            "['[CLS]', '人', '工', '知', '能', 'は', '人', '間', 'の', '仕', '事', 'を', '奪', 'っ', '##た', '。', '[SEP]']\n"
          ]
        }
      ]
    },
    {
      "cell_type": "code",
      "source": [
        "class BertClassifier(nn.Module):\n",
        "    def __init__(self):\n",
        "        super(BertClassifier, self).__init__()\n",
        "\n",
        "        # 日本語学習済モデルをロードする\n",
        "        # output_attentions=Trueで順伝播のときにattention weightを受け取れるようにする\n",
        "        # output_hidden_state=Trueで12層のBertLayerの隠れ層を取得する\n",
        "        self.bert = BertModel.from_pretrained('cl-tohoku/bert-base-japanese-whole-word-masking',\n",
        "                                              output_attentions=True,\n",
        "                                              output_hidden_states=True)\n",
        "\n",
        "        # BERTの隠れ層の次元数は768だが、最終4層分のベクトルを結合したものを扱うので、７６８×4次元としている。\n",
        "        self.linear = nn.Linear(768*4, 9)\n",
        "\n",
        "        # 重み初期化処理\n",
        "        nn.init.normal_(self.linear.weight, std=0.02)\n",
        "        nn.init.normal_(self.linear.bias, 0)\n",
        "\n",
        "    # clsトークンのベクトルを取得する用の関数を用意\n",
        "    def _get_cls_vec(self, vec):\n",
        "        return vec[:,0,:].view(-1, 768)\n",
        "\n",
        "    def forward(self, input_ids):\n",
        "\n",
        "        # 順伝播の出力結果は辞書形式なので、必要な値のkeyを指定して取得する\n",
        "        output = self.bert(input_ids)\n",
        "        attentions = output['attentions']\n",
        "        hidden_states = output['hidden_states']\n",
        "\n",
        "        # 最終４層の隠れ層からそれぞれclsトークンのベクトルを取得する\n",
        "        vec1 = self._get_cls_vec(hidden_states[-1])\n",
        "        vec2 = self._get_cls_vec(hidden_states[-2])\n",
        "        vec3 = self._get_cls_vec(hidden_states[-3])\n",
        "        vec4 = self._get_cls_vec(hidden_states[-4])\n",
        "\n",
        "        # 4つのclsトークンを結合して１つのベクトルにする。\n",
        "        vec = torch.cat([vec1, vec2, vec3, vec4], dim=1)\n",
        "\n",
        "        # 全結合層でクラス分類用に次元を変換\n",
        "        out = self.linear(vec)\n",
        "\n",
        "        return F.log_softmax(out, dim=1), attentions\n",
        "\n",
        "classifier = BertClassifier()"
      ],
      "metadata": {
        "id": "5LdoMFFSW0KW",
        "colab": {
          "base_uri": "https://localhost:8080/",
          "height": 121,
          "referenced_widgets": [
            "dcb44a010f3a4b3299808b88d61b31f6",
            "4081c0fd114e4fd880b38044413156eb",
            "0b2af7ec27b946199c1cad44b7c16e98",
            "2c81582a73c84c49827b5f083f25a7a3",
            "a562f776ddf142bda793840738463c2b",
            "329c16db03154bd8871e5b8509f2a1e9",
            "90cc97a9d5614fa39008a67f5f833c9c",
            "32a0f49d0a1547c18afc8d91adeb4b4b",
            "25c488ea2b5849b4b5bed142b8e98bfa",
            "98321e80ee0246f7b1cc9a3f333800f8",
            "4cbc4857d9a9470e8228495913dcf597"
          ]
        },
        "outputId": "4f1f7043-8b22-486d-8724-495e23509c62"
      },
      "execution_count": 10,
      "outputs": [
        {
          "output_type": "display_data",
          "data": {
            "text/plain": [
              "Downloading:   0%|          | 0.00/445M [00:00<?, ?B/s]"
            ],
            "application/vnd.jupyter.widget-view+json": {
              "version_major": 2,
              "version_minor": 0,
              "model_id": "dcb44a010f3a4b3299808b88d61b31f6"
            }
          },
          "metadata": {}
        },
        {
          "output_type": "stream",
          "name": "stderr",
          "text": [
            "Some weights of the model checkpoint at cl-tohoku/bert-base-japanese-whole-word-masking were not used when initializing BertModel: ['cls.predictions.decoder.weight', 'cls.predictions.transform.LayerNorm.bias', 'cls.predictions.transform.dense.bias', 'cls.seq_relationship.weight', 'cls.predictions.transform.dense.weight', 'cls.seq_relationship.bias', 'cls.predictions.transform.LayerNorm.weight', 'cls.predictions.bias']\n",
            "- This IS expected if you are initializing BertModel from the checkpoint of a model trained on another task or with another architecture (e.g. initializing a BertForSequenceClassification model from a BertForPreTraining model).\n",
            "- This IS NOT expected if you are initializing BertModel from the checkpoint of a model that you expect to be exactly identical (initializing a BertForSequenceClassification model from a BertForSequenceClassification model).\n"
          ]
        }
      ]
    },
    {
      "cell_type": "code",
      "source": [
        "# まずは全部OFF\n",
        "for param in classifier.parameters():\n",
        "    param.requires_grad = False\n",
        "\n",
        "# BERTの最終4層分をON\n",
        "for param in classifier.bert.encoder.layer[-1].parameters():\n",
        "    param.requires_grad = True\n",
        "\n",
        "for param in classifier.bert.encoder.layer[-2].parameters():\n",
        "    param.requires_grad = True\n",
        "\n",
        "for param in classifier.bert.encoder.layer[-3].parameters():\n",
        "    param.requires_grad = True\n",
        "\n",
        "for param in classifier.bert.encoder.layer[-4].parameters():\n",
        "    param.requires_grad = True\n",
        "\n",
        "# クラス分類のところもON\n",
        "for param in classifier.linear.parameters():\n",
        "    param.requires_grad = True\n",
        "\n",
        "# 事前学習済の箇所は学習率小さめ、最後の全結合層は大きめにする。\n",
        "optimizer = optim.Adam([\n",
        "    {'params': classifier.bert.encoder.layer[-1].parameters(), 'lr': 5e-5},\n",
        "    {'params': classifier.bert.encoder.layer[-2].parameters(), 'lr': 5e-5},\n",
        "    {'params': classifier.bert.encoder.layer[-3].parameters(), 'lr': 5e-5},\n",
        "    {'params': classifier.bert.encoder.layer[-4].parameters(), 'lr': 5e-5},\n",
        "    {'params': classifier.linear.parameters(), 'lr': 1e-4}\n",
        "])"
      ],
      "metadata": {
        "id": "qj9gqfUbW1vi"
      },
      "execution_count": 11,
      "outputs": []
    },
    {
      "cell_type": "code",
      "source": [
        "# 損失関数の設定\n",
        "loss_function = nn.NLLLoss()\n",
        "\n",
        "# GPUの設定\n",
        "device = torch.device(\"cuda:0\" if torch.cuda.is_available() else \"cpu\")\n",
        "\n",
        "# ネットワークをGPUへ送る\n",
        "classifier.to(device)\n",
        "losses = []\n",
        "\n",
        "# エポック数は5で\n",
        "for epoch in range(5):\n",
        "\n",
        "    all_loss = 0\n",
        "\n",
        "    for idx, batch in enumerate(train_iter):\n",
        "\n",
        "        classifier.zero_grad()\n",
        "\n",
        "        input_ids = batch.Text[0].to(device)\n",
        "        label_ids = batch.Label.to(device)\n",
        "\n",
        "        out, _ = classifier(input_ids)\n",
        "\n",
        "        batch_loss = loss_function(out, label_ids)\n",
        "        batch_loss.backward()\n",
        "\n",
        "        optimizer.step()\n",
        "\n",
        "        all_loss += batch_loss.item()\n",
        "\n",
        "    print(\"epoch\", epoch, \"\\t\" , \"loss\", all_loss)"
      ],
      "metadata": {
        "id": "tms1EeZuW4KP",
        "colab": {
          "base_uri": "https://localhost:8080/"
        },
        "outputId": "7b8c542c-f3cb-4486-a2e7-7b732375ebc6"
      },
      "execution_count": 12,
      "outputs": [
        {
          "output_type": "stream",
          "name": "stdout",
          "text": [
            "epoch 0 \t loss 24.331868410110474\n",
            "epoch 1 \t loss 18.46911120414734\n",
            "epoch 2 \t loss 15.598559319972992\n",
            "epoch 3 \t loss 13.538590550422668\n",
            "epoch 4 \t loss 11.974037319421768\n"
          ]
        }
      ]
    },
    {
      "cell_type": "code",
      "source": [
        "answer = []\n",
        "prediction = []\n",
        "\n",
        "with torch.no_grad():\n",
        "    for batch in test_iter:\n",
        "\n",
        "        text_tensor = batch.Text[0].to(device)\n",
        "        label_tensor = batch.Label.to(device)\n",
        "\n",
        "        score, _ = classifier(text_tensor)\n",
        "        _, pred = torch.max(score, 1)\n",
        "\n",
        "        prediction += list(pred.cpu().numpy())\n",
        "        answer += list(label_tensor.cpu().numpy())\n",
        "\n",
        "print(classification_report(prediction, answer, target_names=categories))"
      ],
      "metadata": {
        "id": "r3Aqda-LW6Ae",
        "colab": {
          "base_uri": "https://localhost:8080/"
        },
        "outputId": "bcfc8e2c-c69b-4230-dfab-ec93881195a4"
      },
      "execution_count": 13,
      "outputs": [
        {
          "output_type": "stream",
          "name": "stdout",
          "text": [
            "              precision    recall  f1-score   support\n",
            "\n",
            "     opinion       0.79      0.85      0.82        54\n",
            "        fact       0.87      0.82      0.85        67\n",
            "\n",
            "    accuracy                           0.83       121\n",
            "   macro avg       0.83      0.84      0.83       121\n",
            "weighted avg       0.84      0.83      0.84       121\n",
            "\n"
          ]
        }
      ]
    },
    {
      "cell_type": "code",
      "source": [
        "def highlight(word, attn):\n",
        "    html_color = '#%02X%02X%02X' % (255, int(255*(1 - attn)), int(255*(1 - attn)))\n",
        "    return '<span style=\"background-color: {}\">{}</span>'.format(html_color, word)\n",
        "\n",
        "def mk_html(index, batch, preds, attention_weight):\n",
        "    sentence = batch.Text[0][index]\n",
        "    label =batch.Label[index].item()\n",
        "    pred = preds[index].item()\n",
        "\n",
        "    label_str = id2cat[label]\n",
        "    pred_str = id2cat[pred]\n",
        "\n",
        "    html = \"正解カテゴリ: {}<br>予測カテゴリ: {}<br>\".format(label_str, pred_str)\n",
        "\n",
        "    # 文章の長さ分のzero tensorを宣言\n",
        "    seq_len = attention_weight.size()[2]\n",
        "    all_attens = torch.zeros(seq_len).to(device)\n",
        "\n",
        "    for i in range(12):\n",
        "        all_attens += attention_weight[index, i, 0, :]\n",
        "\n",
        "    for word, attn in zip(sentence, all_attens):\n",
        "        if tokenizer.convert_ids_to_tokens([word.tolist()])[0] == \"[SEP]\":\n",
        "            break\n",
        "        html += highlight(tokenizer.convert_ids_to_tokens([word.numpy().tolist()])[0], attn) + \" \"\n",
        "    html += \"<br><br>\"\n",
        "    return html\n",
        "\n",
        "batch = next(iter(test_iter))\n",
        "score, attentions = classifier(batch.Text[0].to(device))\n",
        "_, pred = torch.max(score, 1)\n",
        "\n",
        "from IPython.display import display, HTML\n",
        "for i in range(BATCH_SIZE):\n",
        "    html_output = mk_html(i, batch, pred, attentions[-1])\n",
        "    display(HTML(html_output))"
      ],
      "metadata": {
        "id": "ZDEX7TtYW7uQ",
        "colab": {
          "base_uri": "https://localhost:8080/",
          "height": 1000
        },
        "outputId": "4c09c17c-0a88-475d-ca11-14caf3a114d4"
      },
      "execution_count": 14,
      "outputs": [
        {
          "output_type": "display_data",
          "data": {
            "text/plain": [
              "<IPython.core.display.HTML object>"
            ],
            "text/html": [
              "正解カテゴリ: fact<br>予測カテゴリ: fact<br><span style=\"background-color: #FFEEEE\">[CLS]</span> <span style=\"background-color: #FFF0F0\">202</span> <span style=\"background-color: #FFF6F6\">##3</span> <span style=\"background-color: #FFF3F3\">年</span> <span style=\"background-color: #FFF1F1\">3</span> <span style=\"background-color: #FFF4F4\">月</span> <span style=\"background-color: #FFF5F5\">期</span> <span style=\"background-color: #FFF1F1\">の</span> <span style=\"background-color: #FFF1F1\">連結</span> <span style=\"background-color: #FFF4F4\">業績</span> <span style=\"background-color: #FFECEC\">が</span> <span style=\"background-color: #FFEFEF\">185</span> <span style=\"background-color: #FFF5F5\">億</span> <span style=\"background-color: #FFF7F7\">円</span> <span style=\"background-color: #FFEFEF\">の</span> <span style=\"background-color: #FFF4F4\">最終</span> <span style=\"background-color: #FFF6F6\">赤字</span> <span style=\"background-color: #FFF0F0\">に</span> <span style=\"background-color: #FFF2F2\">転落</span> <span style=\"background-color: #FFE8E8\">する</span> <span style=\"background-color: #FFF7F7\">見通し</span> <span style=\"background-color: #FFF0F0\">に</span> <span style=\"background-color: #FFF2F2\">なっ</span> <span style=\"background-color: #FFEFEF\">た</span> <span style=\"background-color: #FFF5F5\">と</span> <span style=\"background-color: #FFF3F3\">発表</span> <span style=\"background-color: #FFF7F7\">し</span> <span style=\"background-color: #FFF2F2\">た</span> <span style=\"background-color: #FF8686\">。</span> <br><br>"
            ]
          },
          "metadata": {}
        },
        {
          "output_type": "display_data",
          "data": {
            "text/plain": [
              "<IPython.core.display.HTML object>"
            ],
            "text/html": [
              "正解カテゴリ: fact<br>予測カテゴリ: opinion<br><span style=\"background-color: #FFEBEB\">[CLS]</span> <span style=\"background-color: #FFEDED\">権利</span> <span style=\"background-color: #FFF0F0\">委</span> <span style=\"background-color: #FFECEC\">の</span> <span style=\"background-color: #FFF0F0\">ヨ</span> <span style=\"background-color: #FFF1F1\">##ナス</span> <span style=\"background-color: #FFECEC\">##・</span> <span style=\"background-color: #FFF1F1\">##ラスカ</span> <span style=\"background-color: #FFF0F0\">##ス</span> <span style=\"background-color: #FFF6F6\">副</span> <span style=\"background-color: #FFF7F7\">委員</span> <span style=\"background-color: #FFF4F4\">長</span> <span style=\"background-color: #FFF1F1\">は</span> <span style=\"background-color: #FFE9E9\">「</span> <span style=\"background-color: #FFE4E4\">分離</span> <span style=\"background-color: #FFE6E6\">教育</span> <span style=\"background-color: #FFE4E4\">は</span> <span style=\"background-color: #FFF0F0\">(</span> <span style=\"background-color: #FFEFEF\">大人</span> <span style=\"background-color: #FFEDED\">に</span> <span style=\"background-color: #FFF0F0\">なっ</span> <span style=\"background-color: #FFECEC\">て</span> <span style=\"background-color: #FFF0F0\">も</span> <span style=\"background-color: #FFEAEA\">)</span> <span style=\"background-color: #FFE4E4\">分断</span> <span style=\"background-color: #FFEAEA\">さ</span> <span style=\"background-color: #FFEAEA\">れ</span> <span style=\"background-color: #FFE4E4\">た</span> <span style=\"background-color: #FFF0F0\">社会</span> <span style=\"background-color: #FFE7E7\">を</span> <span style=\"background-color: #FFE7E7\">生む</span> <span style=\"background-color: #FFEBEB\">」</span> <span style=\"background-color: #FFEFEF\">と</span> <span style=\"background-color: #FFEFEF\">指摘</span> <span style=\"background-color: #FFEEEE\">する</span> <span style=\"background-color: #FFADAD\">。</span> <br><br>"
            ]
          },
          "metadata": {}
        },
        {
          "output_type": "display_data",
          "data": {
            "text/plain": [
              "<IPython.core.display.HTML object>"
            ],
            "text/html": [
              "正解カテゴリ: fact<br>予測カテゴリ: fact<br><span style=\"background-color: #FFF5F5\">[CLS]</span> <span style=\"background-color: #FFF8F8\">欧州</span> <span style=\"background-color: #FFFAFA\">連合</span> <span style=\"background-color: #FFF8F8\">の</span> <span style=\"background-color: #FFF8F8\">外相</span> <span style=\"background-color: #FFF8F8\">に当たる</span> <span style=\"background-color: #FFF9F9\">ジョ</span> <span style=\"background-color: #FFF9F9\">##セ</span> <span style=\"background-color: #FFFAFA\">##ップ</span> <span style=\"background-color: #FFF7F7\">##・</span> <span style=\"background-color: #FFFAFA\">##ボ</span> <span style=\"background-color: #FFF8F8\">##レル</span> <span style=\"background-color: #FFF7F7\">外交</span> <span style=\"background-color: #FFFAFA\">安全</span> <span style=\"background-color: #FFF8F8\">保障</span> <span style=\"background-color: #FFF9F9\">上級</span> <span style=\"background-color: #FFF7F7\">代表</span> <span style=\"background-color: #FFF8F8\">は</span> <span style=\"background-color: #FFF7F7\">13</span> <span style=\"background-color: #FFF8F8\">日</span> <span style=\"background-color: #FFF6F6\">、</span> <span style=\"background-color: #FFF9F9\">ロシア</span> <span style=\"background-color: #FFF8F8\">の</span> <span style=\"background-color: #FFF9F9\">ウラジーミル</span> <span style=\"background-color: #FFFAFA\">##・</span> <span style=\"background-color: #FFFBFB\">##プー</span> <span style=\"background-color: #FFFAFA\">##チン</span> <span style=\"background-color: #FFF9F9\">大統領</span> <span style=\"background-color: #FFF5F5\">が</span> <span style=\"background-color: #FFF7F7\">ウクライナ</span> <span style=\"background-color: #FFF6F6\">に</span> <span style=\"background-color: #FFF7F7\">核兵器</span> <span style=\"background-color: #FFF6F6\">を</span> <span style=\"background-color: #FFF5F5\">使用</span> <span style=\"background-color: #FFF5F5\">すれ</span> <span style=\"background-color: #FFF6F6\">ば</span> <span style=\"background-color: #FFF2F2\">、</span> <span style=\"background-color: #FFF8F8\">欧米</span> <span style=\"background-color: #FFF8F8\">の</span> <span style=\"background-color: #FFFAFA\">軍事</span> <span style=\"background-color: #FFF8F8\">的</span> <span style=\"background-color: #FFF7F7\">対応</span> <span style=\"background-color: #FFF3F3\">によって</span> <span style=\"background-color: #FFF6F6\">ロシア</span> <span style=\"background-color: #FFF8F8\">軍</span> <span style=\"background-color: #FFF5F5\">は</span> <span style=\"background-color: #FFF6F6\">「</span> <span style=\"background-color: #FFF6F6\">壊滅</span> <span style=\"background-color: #FFF4F4\">」</span> <span style=\"background-color: #FFF5F5\">する</span> <span style=\"background-color: #FFF4F4\">と</span> <span style=\"background-color: #FFF9F9\">警告</span> <span style=\"background-color: #FFF9F9\">し</span> <span style=\"background-color: #FFF6F6\">た</span> <span style=\"background-color: #FF-476-476\">。</span> <br><br>"
            ]
          },
          "metadata": {}
        },
        {
          "output_type": "display_data",
          "data": {
            "text/plain": [
              "<IPython.core.display.HTML object>"
            ],
            "text/html": [
              "正解カテゴリ: fact<br>予測カテゴリ: fact<br><span style=\"background-color: #FFF7F7\">[CLS]</span> <span style=\"background-color: #FFF9F9\">読売新聞</span> <span style=\"background-color: #FFFCFC\">##社</span> <span style=\"background-color: #FFF9F9\">は</span> <span style=\"background-color: #FFF7F7\">、</span> <span style=\"background-color: #FFF6F6\">15</span> <span style=\"background-color: #FFF9F9\">日</span> <span style=\"background-color: #FFFBFB\">から</span> <span style=\"background-color: #FFF9F9\">の</span> <span style=\"background-color: #FFFBFB\">新聞</span> <span style=\"background-color: #FFF9F9\">週間</span> <span style=\"background-color: #FFF8F8\">に</span> <span style=\"background-color: #FFF4F4\">合わせ</span> <span style=\"background-color: #FFF4F4\">、</span> <span style=\"background-color: #FFFBFB\">新聞</span> <span style=\"background-color: #FFF9F9\">や</span> <span style=\"background-color: #FFF9F9\">インターネット</span> <span style=\"background-color: #FFF6F6\">など</span> <span style=\"background-color: #FFF9F9\">メディア</span> <span style=\"background-color: #FFF9F9\">全般</span> <span style=\"background-color: #FFF9F9\">に関する</span> <span style=\"background-color: #FFFAFA\">全国</span> <span style=\"background-color: #FFFAFA\">世論</span> <span style=\"background-color: #FFF8F8\">調査</span> <span style=\"background-color: #FFF9F9\">(</span> <span style=\"background-color: #FFFBFB\">郵</span> <span style=\"background-color: #FFFAFA\">##送</span> <span style=\"background-color: #FFF9F9\">方式</span> <span style=\"background-color: #FFFAFA\">)</span> <span style=\"background-color: #FFF7F7\">を</span> <span style=\"background-color: #FFF8F8\">実施</span> <span style=\"background-color: #FFF9F9\">し</span> <span style=\"background-color: #FFF6F6\">た</span> <span style=\"background-color: #FF-4CB-4CB\">。</span> <br><br>"
            ]
          },
          "metadata": {}
        },
        {
          "output_type": "display_data",
          "data": {
            "text/plain": [
              "<IPython.core.display.HTML object>"
            ],
            "text/html": [
              "正解カテゴリ: fact<br>予測カテゴリ: fact<br><span style=\"background-color: #FFF6F6\">[CLS]</span> <span style=\"background-color: #FFF6F6\">英国</span> <span style=\"background-color: #FFF7F7\">の</span> <span style=\"background-color: #FFF4F4\">トラス</span> <span style=\"background-color: #FFF9F9\">首相</span> <span style=\"background-color: #FFF8F8\">は</span> <span style=\"background-color: #FFF7F7\">14</span> <span style=\"background-color: #FFF8F8\">日</span> <span style=\"background-color: #FFF6F6\">、</span> <span style=\"background-color: #FFF8F8\">クワ</span> <span style=\"background-color: #FFF9F9\">##ー</span> <span style=\"background-color: #FFF9F9\">##テン</span> <span style=\"background-color: #FFF9F9\">##グ</span> <span style=\"background-color: #FFF8F8\">財務</span> <span style=\"background-color: #FFFAFA\">相</span> <span style=\"background-color: #FFF8F8\">を</span> <span style=\"background-color: #FFF7F7\">解任</span> <span style=\"background-color: #FFF8F8\">し</span> <span style=\"background-color: #FFF5F5\">た</span> <span style=\"background-color: #FF-47D-47D\">。</span> <br><br>"
            ]
          },
          "metadata": {}
        },
        {
          "output_type": "display_data",
          "data": {
            "text/plain": [
              "<IPython.core.display.HTML object>"
            ],
            "text/html": [
              "正解カテゴリ: opinion<br>予測カテゴリ: opinion<br><span style=\"background-color: #FFEDED\">[CLS]</span> <span style=\"background-color: #FFE8E8\">インフレ</span> <span style=\"background-color: #FFE7E7\">抑制</span> <span style=\"background-color: #FFEAEA\">は</span> <span style=\"background-color: #FFE8E8\">理解</span> <span style=\"background-color: #FFECEC\">できる</span> <span style=\"background-color: #FFEBEB\">が</span> <span style=\"background-color: #FFEAEA\">世界</span> <span style=\"background-color: #FFEDED\">的</span> <span style=\"background-color: #FFE9E9\">な</span> <span style=\"background-color: #FFE7E7\">金融</span> <span style=\"background-color: #FFE6E6\">危機</span> <span style=\"background-color: #FFE9E9\">が</span> <span style=\"background-color: #FFEAEA\">起き</span> <span style=\"background-color: #FFEDED\">て</span> <span style=\"background-color: #FFEDED\">は</span> <span style=\"background-color: #FFEDED\">元</span> <span style=\"background-color: #FFEFEF\">も</span> <span style=\"background-color: #FFF0F0\">子</span> <span style=\"background-color: #FFF0F0\">も</span> <span style=\"background-color: #FFEEEE\">ない</span> <span style=\"background-color: #FFE2E2\">。</span> <br><br>"
            ]
          },
          "metadata": {}
        },
        {
          "output_type": "display_data",
          "data": {
            "text/plain": [
              "<IPython.core.display.HTML object>"
            ],
            "text/html": [
              "正解カテゴリ: fact<br>予測カテゴリ: fact<br><span style=\"background-color: #FFEAEA\">[CLS]</span> <span style=\"background-color: #FFEDED\">「</span> <span style=\"background-color: #FFF3F3\">憲法</span> <span style=\"background-color: #FFEFEF\">が</span> <span style=\"background-color: #FFEEEE\">求める</span> <span style=\"background-color: #FFEBEB\">投票</span> <span style=\"background-color: #FFF5F5\">価値</span> <span style=\"background-color: #FFF3F3\">の</span> <span style=\"background-color: #FFECEC\">平等</span> <span style=\"background-color: #FFEFEF\">に</span> <span style=\"background-color: #FFEFEF\">反する</span> <span style=\"background-color: #FFECEC\">」</span> <span style=\"background-color: #FFEBEB\">として</span> <span style=\"background-color: #FFEBEB\">、</span> <span style=\"background-color: #FFEFEF\">選挙</span> <span style=\"background-color: #FFEDED\">無効</span> <span style=\"background-color: #FFEFEF\">を</span> <span style=\"background-color: #FFEEEE\">求め</span> <span style=\"background-color: #FFE9E9\">た</span> <span style=\"background-color: #FFF2F2\">訴訟</span> <span style=\"background-color: #FFF4F4\">の</span> <span style=\"background-color: #FFF2F2\">判決</span> <span style=\"background-color: #FFEFEF\">で</span> <span style=\"background-color: #FFEEEE\">、</span> <span style=\"background-color: #FFF2F2\">大阪</span> <span style=\"background-color: #FFEFEF\">高裁</span> <span style=\"background-color: #FFECEC\">は</span> <span style=\"background-color: #FFEEEE\">まず</span> <span style=\"background-color: #FFECEC\">「</span> <span style=\"background-color: #FFF6F6\">国民</span> <span style=\"background-color: #FFF4F4\">の</span> <span style=\"background-color: #FFF7F7\">意思</span> <span style=\"background-color: #FFF0F0\">を</span> <span style=\"background-color: #FFF2F2\">適正</span> <span style=\"background-color: #FFF1F1\">に</span> <span style=\"background-color: #FFF1F1\">反映</span> <span style=\"background-color: #FFECEC\">する</span> <span style=\"background-color: #FFEEEE\">選挙</span> <span style=\"background-color: #FFF1F1\">制度</span> <span style=\"background-color: #FFF1F1\">が</span> <span style=\"background-color: #FFF2F2\">民主</span> <span style=\"background-color: #FFF5F5\">政治</span> <span style=\"background-color: #FFF5F5\">の</span> <span style=\"background-color: #FFF3F3\">基盤</span> <span style=\"background-color: #FFF0F0\">」</span> <span style=\"background-color: #FFECEC\">で</span> <span style=\"background-color: #FFEAEA\">ある</span> <span style=\"background-color: #FFF4F4\">こと</span> <span style=\"background-color: #FFEDED\">を</span> <span style=\"background-color: #FFEFEF\">確認</span> <span style=\"background-color: #FFEBEB\">し</span> <span style=\"background-color: #FFE1E1\">た</span> <span style=\"background-color: #FF-21-21\">。</span> <br><br>"
            ]
          },
          "metadata": {}
        },
        {
          "output_type": "display_data",
          "data": {
            "text/plain": [
              "<IPython.core.display.HTML object>"
            ],
            "text/html": [
              "正解カテゴリ: fact<br>予測カテゴリ: fact<br><span style=\"background-color: #FFEEEE\">[CLS]</span> <span style=\"background-color: #FFF4F4\">報道</span> <span style=\"background-color: #FFF0F0\">を</span> <span style=\"background-color: #FFEFEF\">受け</span> <span style=\"background-color: #FFEFEF\">、</span> <span style=\"background-color: #FFF4F4\">ロンドン</span> <span style=\"background-color: #FFF6F6\">金属</span> <span style=\"background-color: #FFF6F6\">取引</span> <span style=\"background-color: #FFF8F8\">所</span> <span style=\"background-color: #FFF6F6\">(</span> <span style=\"background-color: #FFF9F9\">LM</span> <span style=\"background-color: #FFF6F6\">##E</span> <span style=\"background-color: #FFF7F7\">)</span> <span style=\"background-color: #FFF3F3\">で</span> <span style=\"background-color: #FFF2F2\">は</span> <span style=\"background-color: #FFF0F0\">アルミ</span> <span style=\"background-color: #FFF3F3\">価格</span> <span style=\"background-color: #FFF0F0\">が</span> <span style=\"background-color: #FFF6F6\">一時</span> <span style=\"background-color: #FFF5F5\">7</span> <span style=\"background-color: #FFF7F7\">.</span> <span style=\"background-color: #FFF5F5\">3</span> <span style=\"background-color: #FFF1F1\">%</span> <span style=\"background-color: #FFF4F4\">高</span> <span style=\"background-color: #FFF1F1\">の</span> <span style=\"background-color: #FFF0F0\">1</span> <span style=\"background-color: #FFF1F1\">トン</span> <span style=\"background-color: #FFF4F4\">2400</span> <span style=\"background-color: #FFF5F5\">ドル</span> <span style=\"background-color: #FFF2F2\">まで</span> <span style=\"background-color: #FFF5F5\">急</span> <span style=\"background-color: #FFF3F3\">##騰</span> <span style=\"background-color: #FFF1F1\">し</span> <span style=\"background-color: #FFECEC\">た</span> <span style=\"background-color: #FF8F8F\">。</span> <br><br>"
            ]
          },
          "metadata": {}
        },
        {
          "output_type": "display_data",
          "data": {
            "text/plain": [
              "<IPython.core.display.HTML object>"
            ],
            "text/html": [
              "正解カテゴリ: fact<br>予測カテゴリ: fact<br><span style=\"background-color: #FFF8F8\">[CLS]</span> <span style=\"background-color: #FFF8F8\">イ</span> <span style=\"background-color: #FFFAFA\">##プシ</span> <span style=\"background-color: #FFF9F9\">##ロン</span> <span style=\"background-color: #FFF9F9\">は</span> <span style=\"background-color: #FFF7F7\">今回</span> <span style=\"background-color: #FFF7F7\">、</span> <span style=\"background-color: #FFF9F9\">初めて</span> <span style=\"background-color: #FFF9F9\">商業</span> <span style=\"background-color: #FFF8F8\">衛星</span> <span style=\"background-color: #FFF9F9\">の</span> <span style=\"background-color: #FFF2F2\">打ち上げ</span> <span style=\"background-color: #FFF8F8\">を</span> <span style=\"background-color: #FFF9F9\">受注</span> <span style=\"background-color: #FFF9F9\">し</span> <span style=\"background-color: #FFF7F7\">た</span> <span style=\"background-color: #FF-640-640\">。</span> <br><br>"
            ]
          },
          "metadata": {}
        },
        {
          "output_type": "display_data",
          "data": {
            "text/plain": [
              "<IPython.core.display.HTML object>"
            ],
            "text/html": [
              "正解カテゴリ: opinion<br>予測カテゴリ: opinion<br><span style=\"background-color: #FFEDED\">[CLS]</span> <span style=\"background-color: #FFEBEB\">原発</span> <span style=\"background-color: #FFEBEB\">の</span> <span style=\"background-color: #FFEBEB\">位置づけ</span> <span style=\"background-color: #FFE7E7\">は</span> <span style=\"background-color: #FFEAEA\">、</span> <span style=\"background-color: #FFEEEE\">電気</span> <span style=\"background-color: #FFE9E9\">の</span> <span style=\"background-color: #FFE9E9\">使い方</span> <span style=\"background-color: #FFEAEA\">を</span> <span style=\"background-color: #FFEDED\">将来</span> <span style=\"background-color: #FFEFEF\">にわたって</span> <span style=\"background-color: #FFEAEA\">左右</span> <span style=\"background-color: #FFE8E8\">する</span> <span style=\"background-color: #FFE9E9\">大きな</span> <span style=\"background-color: #FFEAEA\">テーマ</span> <span style=\"background-color: #FFEBEB\">だ</span> <span style=\"background-color: #FFE7E7\">。</span> <br><br>"
            ]
          },
          "metadata": {}
        },
        {
          "output_type": "display_data",
          "data": {
            "text/plain": [
              "<IPython.core.display.HTML object>"
            ],
            "text/html": [
              "正解カテゴリ: fact<br>予測カテゴリ: fact<br><span style=\"background-color: #FFE7E7\">[CLS]</span> <span style=\"background-color: #FFE6E6\">十</span> <span style=\"background-color: #FFE8E8\">七</span> <span style=\"background-color: #FFE8E8\">基</span> <span style=\"background-color: #FFE7E7\">あっ</span> <span style=\"background-color: #FFE9E9\">た</span> <span style=\"background-color: #FFE5E5\">原発</span> <span style=\"background-color: #FFE4E4\">を</span> <span style=\"background-color: #FFEBEB\">次々</span> <span style=\"background-color: #FFEEEE\">と</span> <span style=\"background-color: #FFECEC\">廃</span> <span style=\"background-color: #FFEFEF\">炉</span> <span style=\"background-color: #FFEEEE\">に</span> <span style=\"background-color: #FFE9E9\">し</span> <span style=\"background-color: #FFE5E5\">、</span> <span style=\"background-color: #FFEEEE\">残る</span> <span style=\"background-color: #FFECEC\">三</span> <span style=\"background-color: #FFEDED\">基</span> <span style=\"background-color: #FFEAEA\">も</span> <span style=\"background-color: #FFEDED\">今年</span> <span style=\"background-color: #FFEFEF\">末</span> <span style=\"background-color: #FFEFEF\">まで</span> <span style=\"background-color: #FFEBEB\">に</span> <span style=\"background-color: #FFE7E7\">廃</span> <span style=\"background-color: #FFE9E9\">炉</span> <span style=\"background-color: #FFE4E4\">に</span> <span style=\"background-color: #FFE3E3\">し</span> <span style=\"background-color: #FFDDDD\">て</span> <span style=\"background-color: #FFDDDD\">、</span> <span style=\"background-color: #FFE8E8\">脱</span> <span style=\"background-color: #FFE5E5\">原発</span> <span style=\"background-color: #FFE5E5\">を</span> <span style=\"background-color: #FFE5E5\">完了</span> <span style=\"background-color: #FFEDED\">さ</span> <span style=\"background-color: #FFE5E5\">せる</span> <span style=\"background-color: #FFEDED\">予定</span> <span style=\"background-color: #FFECEC\">だっ</span> <span style=\"background-color: #FFE1E1\">た</span> <span style=\"background-color: #FF6A6A\">。</span> <br><br>"
            ]
          },
          "metadata": {}
        },
        {
          "output_type": "display_data",
          "data": {
            "text/plain": [
              "<IPython.core.display.HTML object>"
            ],
            "text/html": [
              "正解カテゴリ: fact<br>予測カテゴリ: fact<br><span style=\"background-color: #FFEDED\">[CLS]</span> <span style=\"background-color: #FFF0F0\">新型</span> <span style=\"background-color: #FFEDED\">コロナ</span> <span style=\"background-color: #FFECEC\">ウイルス</span> <span style=\"background-color: #FFE7E7\">感染</span> <span style=\"background-color: #FFE6E6\">拡大</span> <span style=\"background-color: #FFF3F3\">前</span> <span style=\"background-color: #FFF3F3\">の</span> <span style=\"background-color: #FFEFEF\">2019</span> <span style=\"background-color: #FFF2F2\">年</span> <span style=\"background-color: #FFF6F6\">同月</span> <span style=\"background-color: #FFF6F6\">と</span> <span style=\"background-color: #FFF8F8\">比べる</span> <span style=\"background-color: #FFF3F3\">と</span> <span style=\"background-color: #FFF0F0\">90</span> <span style=\"background-color: #FFF4F4\">.</span> <span style=\"background-color: #FFF5F5\">9</span> <span style=\"background-color: #FFF4F4\">%</span> <span style=\"background-color: #FFF4F4\">減</span> <span style=\"background-color: #FFF2F2\">で</span> <span style=\"background-color: #FFF2F2\">、</span> <span style=\"background-color: #FFF7F7\">依然として</span> <span style=\"background-color: #FFEFEF\">低</span> <span style=\"background-color: #FFF3F3\">水準</span> <span style=\"background-color: #FFF2F2\">だっ</span> <span style=\"background-color: #FFF0F0\">た</span> <span style=\"background-color: #FF7979\">。</span> <br><br>"
            ]
          },
          "metadata": {}
        },
        {
          "output_type": "display_data",
          "data": {
            "text/plain": [
              "<IPython.core.display.HTML object>"
            ],
            "text/html": [
              "正解カテゴリ: fact<br>予測カテゴリ: fact<br><span style=\"background-color: #FFEDED\">[CLS]</span> <span style=\"background-color: #FFEEEE\">2</span> <span style=\"background-color: #FFF1F1\">号機</span> <span style=\"background-color: #FFF3F3\">以降</span> <span style=\"background-color: #FFEFEF\">は</span> <span style=\"background-color: #FFECEC\">、</span> <span style=\"background-color: #FFEEEE\">運用</span> <span style=\"background-color: #FFEBEB\">が</span> <span style=\"background-color: #FFF0F0\">JA</span> <span style=\"background-color: #FFF3F3\">##X</span> <span style=\"background-color: #FFF4F4\">##A</span> <span style=\"background-color: #FFF1F1\">から</span> <span style=\"background-color: #FFF6F6\">民間</span> <span style=\"background-color: #FFF3F3\">の</span> <span style=\"background-color: #FFF6F6\">I</span> <span style=\"background-color: #FFF3F3\">##HI</span> <span style=\"background-color: #FFF2F2\">エアロ</span> <span style=\"background-color: #FFF1F1\">スペース</span> <span style=\"background-color: #FFF2F2\">社</span> <span style=\"background-color: #FFF1F1\">に</span> <span style=\"background-color: #FFEFEF\">移管</span> <span style=\"background-color: #FFF1F1\">さ</span> <span style=\"background-color: #FFEDED\">れる</span> <span style=\"background-color: #FFC4C4\">。</span> <br><br>"
            ]
          },
          "metadata": {}
        },
        {
          "output_type": "display_data",
          "data": {
            "text/plain": [
              "<IPython.core.display.HTML object>"
            ],
            "text/html": [
              "正解カテゴリ: opinion<br>予測カテゴリ: opinion<br><span style=\"background-color: #FFECEC\">[CLS]</span> <span style=\"background-color: #FFE7E7\">教団</span> <span style=\"background-color: #FFEBEB\">と</span> <span style=\"background-color: #FFE9E9\">の</span> <span style=\"background-color: #FFE7E7\">関係</span> <span style=\"background-color: #FFE7E7\">の</span> <span style=\"background-color: #FFEAEA\">全</span> <span style=\"background-color: #FFEAEA\">##容</span> <span style=\"background-color: #FFE3E3\">解明</span> <span style=\"background-color: #FFE7E7\">を</span> <span style=\"background-color: #FFEEEE\">抜き</span> <span style=\"background-color: #FFECEC\">に</span> <span style=\"background-color: #FFEFEF\">し</span> <span style=\"background-color: #FFEFEF\">て</span> <span style=\"background-color: #FFEEEE\">は</span> <span style=\"background-color: #FFEDED\">、</span> <span style=\"background-color: #FFEFEF\">信頼</span> <span style=\"background-color: #FFEEEE\">は</span> <span style=\"background-color: #FFF2F2\">戻ら</span> <span style=\"background-color: #FFEEEE\">ない</span> <span style=\"background-color: #FFEFEF\">と</span> <span style=\"background-color: #FFF1F1\">知る</span> <span style=\"background-color: #FFF2F2\">べき</span> <span style=\"background-color: #FFEAEA\">だ</span> <span style=\"background-color: #FFE2E2\">。</span> <br><br>"
            ]
          },
          "metadata": {}
        },
        {
          "output_type": "display_data",
          "data": {
            "text/plain": [
              "<IPython.core.display.HTML object>"
            ],
            "text/html": [
              "正解カテゴリ: opinion<br>予測カテゴリ: opinion<br><span style=\"background-color: #FFEAEA\">[CLS]</span> <span style=\"background-color: #FFEDED\">発想</span> <span style=\"background-color: #FFE8E8\">を</span> <span style=\"background-color: #FFE6E6\">転換</span> <span style=\"background-color: #FFE5E5\">し</span> <span style=\"background-color: #FFE6E6\">、</span> <span style=\"background-color: #FFECEC\">今</span> <span style=\"background-color: #FFEAEA\">の</span> <span style=\"background-color: #FFE2E2\">需要</span> <span style=\"background-color: #FFE3E3\">回復</span> <span style=\"background-color: #FFE8E8\">を</span> <span style=\"background-color: #FFEBEB\">追い</span> <span style=\"background-color: #FFEFEF\">##風</span> <span style=\"background-color: #FFE8E8\">に</span> <span style=\"background-color: #FFE5E5\">成長</span> <span style=\"background-color: #FFE8E8\">産業</span> <span style=\"background-color: #FFEFEF\">へ</span> <span style=\"background-color: #FFF2F2\">と</span> <span style=\"background-color: #FFEEEE\">脱</span> <span style=\"background-color: #FFF1F1\">##皮</span> <span style=\"background-color: #FFE8E8\">する</span> <span style=\"background-color: #FFEAEA\">道</span> <span style=\"background-color: #FFECEC\">を</span> <span style=\"background-color: #FFE8E8\">考え</span> <span style=\"background-color: #FFE8E8\">たい</span> <span style=\"background-color: #FFE0E0\">。</span> <br><br>"
            ]
          },
          "metadata": {}
        },
        {
          "output_type": "display_data",
          "data": {
            "text/plain": [
              "<IPython.core.display.HTML object>"
            ],
            "text/html": [
              "正解カテゴリ: fact<br>予測カテゴリ: fact<br><span style=\"background-color: #FFEFEF\">[CLS]</span> <span style=\"background-color: #FFF3F3\">くし</span> <span style=\"background-color: #FFF4F4\">##く</span> <span style=\"background-color: #FFF5F5\">##も</span> <span style=\"background-color: #FFEFEF\">バー</span> <span style=\"background-color: #FFF2F2\">##ナン</span> <span style=\"background-color: #FFF1F1\">##キ</span> <span style=\"background-color: #FFEFEF\">氏</span> <span style=\"background-color: #FFEFEF\">が</span> <span style=\"background-color: #FFF3F3\">FR</span> <span style=\"background-color: #FFF4F4\">##B</span> <span style=\"background-color: #FFF4F4\">議長</span> <span style=\"background-color: #FFF5F5\">に</span> <span style=\"background-color: #FFF6F6\">就い</span> <span style=\"background-color: #FFF2F2\">た</span> <span style=\"background-color: #FFE8E8\">2</span> <span style=\"background-color: #FFF2F2\">年</span> <span style=\"background-color: #FFF9F9\">後</span> <span style=\"background-color: #FFF7F7\">の</span> <span style=\"background-color: #FFF3F3\">2008</span> <span style=\"background-color: #FFF1F1\">年</span> <span style=\"background-color: #FFF0F0\">に</span> <span style=\"background-color: #FFF0F0\">米</span> <span style=\"background-color: #FFF2F2\">金融</span> <span style=\"background-color: #FFF0F0\">危機</span> <span style=\"background-color: #FFF0F0\">が</span> <span style=\"background-color: #FFEFEF\">発生</span> <span style=\"background-color: #FFEEEE\">し</span> <span style=\"background-color: #FFEDED\">た</span> <span style=\"background-color: #FFA4A4\">。</span> <br><br>"
            ]
          },
          "metadata": {}
        }
      ]
    },
    {
      "cell_type": "code",
      "source": [
        "# torch.save(classifier, 'model_weight.pth')\n",
        "model_path = './model.pth'\n",
        "torch.save(classifier.to('cpu').state_dict(), model_path)"
      ],
      "metadata": {
        "id": "ZLvDlPv_KRLD"
      },
      "execution_count": 19,
      "outputs": []
    },
    {
      "cell_type": "code",
      "source": [
        "model_path = './model.pth'\n",
        "model.load_state_dict(torch.load(model_path, map_location=torch.device('cpu')))"
      ],
      "metadata": {
        "id": "WqfLoQTAPu1p"
      },
      "execution_count": null,
      "outputs": []
    }
  ]
}